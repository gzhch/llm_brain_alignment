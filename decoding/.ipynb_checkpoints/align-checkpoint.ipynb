{
 "cells": [
  {
   "cell_type": "code",
   "execution_count": 51,
   "id": "c505fcbc-8bce-449e-bd44-297b5cad1e54",
   "metadata": {
    "execution": {
     "shell.execute_reply.end": "2024-01-08T12:02:22.515717Z",
     "shell.execute_reply.started": "2024-01-08T12:02:22.458518Z",
     "to_execute": "2024-01-08T12:02:22.436Z"
    },
    "libroFormatter": "formatter-string"
   },
   "outputs": [
    {
     "name": "stdout",
     "output_type": "stream",
     "text": [
      "The autoreload extension is already loaded. To reload it, use:\n",
      "  %reload_ext autoreload\n"
     ]
    }
   ],
   "source": [
    "%load_ext autoreload\n",
    "%autoreload 2\n",
    "import os\n",
    "import copy\n",
    "import numpy as np\n",
    "import json\n",
    "import argparse\n",
    "import random\n",
    "import scipy\n",
    "import config\n",
    "from GPT import GPT\n",
    "from LLAMA import LLAMA\n",
    "from StimulusModel import LMFeatures\n",
    "from utils_stim import get_story_wordseqs\n",
    "# from utils_resp import get_resp\n",
    "from utils_ridge.ridge import ridge, bootstrap_ridge, ridge_corr\n",
    "from utils_ridge.ridge_torch import ridge_torch, bootstrap_ridge_torch, ridge_corr_torch\n",
    "from utils_ridge.stimulus_utils import TRFile, load_textgrids, load_simulated_trfiles\n",
    "from utils_ridge.dsutils import make_word_ds\n",
    "from utils_ridge.interpdata import lanczosinterp2D, lanczosinterp2D_torch\n",
    "from utils_ridge.util import make_delayed\n",
    "from utils_ridge.utils import mult_diag, counter\n",
    "import torch\n",
    "from transformers import AutoModelForCausalLM, AutoTokenizer, AutoConfig\n",
    "import utils_llama.activation as ana\n",
    "\n",
    "import scipy\n",
    "import math\n",
    "import matplotlib.pyplot as plt\n",
    "\n",
    "import time\n",
    "import h5py\n"
   ]
  },
  {
   "cell_type": "code",
   "execution_count": 66,
   "id": "abe804f5-731a-4349-8e12-79de47cc544a",
   "metadata": {
    "execution": {
     "shell.execute_reply.end": "2024-01-08T12:08:00.382970Z",
     "shell.execute_reply.started": "2024-01-08T12:07:59.325576Z",
     "to_execute": "2024-01-08T12:07:59.298Z"
    },
    "libroFormatter": "formatter-string"
   },
   "outputs": [],
   "source": [
    "# torch.cuda.memory._record_memory_history()\n",
    "torch.cuda.empty_cache()\n",
    "torch.set_grad_enabled(False)\n",
    "\n",
    "class ARGS:\n",
    "    def __init__(self):\n",
    "        self.subject = 'S1'\n",
    "        self.gpt = 'perceived'\n",
    "        self.sessions = [2, 3, 4, 5, 6, 7, 8, 9, 10, 11, 12, 14, 15, 18, 20]\n",
    "        self.layer = 17\n",
    "        self.act_name = 'ffn_gate'\n",
    "        self.window = 5\n",
    "\n",
    "args = ARGS()\n",
    "\n",
    "# training stories\n",
    "stories = []\n",
    "with open(os.path.join(config.DATA_TRAIN_DIR, \"sess_to_story.json\"), \"r\") as f:\n",
    "    sess_to_story = json.load(f) \n",
    "for sess in args.sessions:\n",
    "    stories.extend(sess_to_story[str(sess)])\n",
    "\n",
    "stories = stories[:10]\n"
   ]
  },
  {
   "cell_type": "code",
   "execution_count": 11,
   "id": "fea21c2f-158a-404f-aa06-25b7e35dcb08",
   "metadata": {
    "execution": {
     "shell.execute_reply.end": "2024-01-08T02:59:42.260704Z",
     "shell.execute_reply.started": "2024-01-08T02:59:18.154427Z",
     "to_execute": "2024-01-08T02:59:17.975Z"
    },
    "libroFormatter": "formatter-string"
   },
   "outputs": [
    {
     "name": "stderr",
     "output_type": "stream",
     "text": [
      "2024-01-08 10:59:35,737 - accelerate.utils.modeling - INFO - We will use 90% of the memory on device 0 for storing the model, and 10% for the buffer to avoid OOM. You can set `max_memory` in to a higher value to use more memory (at your own risk).\n",
      "Loading checkpoint shards: 100%|██████████| 2/2 [00:05<00:00,  2.94s/it]\n"
     ]
    }
   ],
   "source": [
    "model_dir = '/ossfs/workspace/nas/gzhch/data/models/Llama-2-7b-hf'\n",
    "model = AutoModelForCausalLM.from_pretrained(\n",
    "    model_dir, \n",
    "    device_map='auto',\n",
    "    torch_dtype=torch.float16,\n",
    ").eval()\n",
    "tokenizer = AutoTokenizer.from_pretrained(model_dir)\n",
    "\n",
    "\n",
    "## load cached llm act if possible\n",
    "cache_dir = '/ossfs/workspace/act_cache'\n",
    "llama = LLAMA(model, tokenizer, cache_dir)"
   ]
  },
  {
   "cell_type": "code",
   "execution_count": 12,
   "id": "09a10efc-b197-4db4-bb98-94fae9fa354a",
   "metadata": {
    "execution": {
     "shell.execute_reply.end": "2024-01-08T03:00:27.304425Z",
     "shell.execute_reply.started": "2024-01-08T03:00:26.631361Z",
     "to_execute": "2024-01-08T03:00:26.456Z"
    },
    "libroFormatter": "formatter-string"
   },
   "outputs": [],
   "source": [
    "def get_stim(args, stories, llama, tr_stats = None, delay=True, vox=None):\n",
    "    word_seqs = get_story_wordseqs(stories)\n",
    "    word_vecs = {}\n",
    "    for story in stories:\n",
    "        words = word_seqs[story].data\n",
    "        embs = llama.get_llm_act(story, words, args.window, args.act_name, args.layer)\n",
    "        word_vecs[story] = embs\n",
    "    \n",
    "    word_mat = np.vstack([word_vecs[story] for story in stories])\n",
    "    word_mean, word_std = word_mat.mean(0), word_mat.std(0)\n",
    "\n",
    "    ds_vecs = {story : lanczosinterp2D(word_vecs[story], word_seqs[story].data_times, word_seqs[story].tr_times) \n",
    "               for story in stories}\n",
    "    ds_mat = np.vstack([ds_vecs[story][5+config.TRIM:-config.TRIM] for story in stories])\n",
    "\n",
    "    if vox is not None:\n",
    "        ds_mat = ds_mat[:, vox]\n",
    "\n",
    "    if tr_stats is None: \n",
    "        r_mean, r_std = ds_mat.mean(0), ds_mat.std(0)\n",
    "        r_std[r_std == 0] = 1\n",
    "    else: \n",
    "        r_mean, r_std = tr_stats\n",
    "    ds_mat = np.nan_to_num(np.dot((ds_mat - r_mean), np.linalg.inv(np.diag(r_std))))\n",
    "    if delay:\n",
    "        del_mat = make_delayed(ds_mat, config.STIM_DELAYS)\n",
    "    else:\n",
    "        del_mat = ds_mat\n",
    "    if tr_stats is None: return del_mat, (r_mean, r_std), (word_mean, word_std)\n",
    "    else: return del_mat, None, None\n",
    "\n",
    "def get_resp(subject, stories, stack = True, vox = None, delay=False):\n",
    "    \"\"\"loads response data\n",
    "    \"\"\"\n",
    "    subject_dir = os.path.join(config.DATA_TRAIN_DIR, \"train_response\", subject)\n",
    "    resp = {}\n",
    "    for story in stories:\n",
    "        resp_path = os.path.join(subject_dir, \"%s.hf5\" % story)\n",
    "        hf = h5py.File(resp_path, \"r\")\n",
    "        resp[story] = np.nan_to_num(hf[\"data\"][:])\n",
    "        if vox is not None:\n",
    "            resp[story] = resp[story][:, vox]\n",
    "        if delay:\n",
    "            resp[story] = make_delayed(resp[story], config.RESP_DELAYS)\n",
    "        hf.close()\n",
    "    if stack: return np.vstack([resp[story] for story in stories]) \n",
    "    else: return resp\n"
   ]
  },
  {
   "cell_type": "code",
   "execution_count": 17,
   "id": "b87dabe7-09b1-483b-ac49-c461e362d6fc",
   "metadata": {
    "execution": {
     "shell.execute_reply.end": "2024-01-08T03:09:02.982487Z",
     "shell.execute_reply.started": "2024-01-08T03:09:02.957433Z",
     "to_execute": "2024-01-08T03:09:02.774Z"
    },
    "libroFormatter": "formatter-string"
   },
   "outputs": [
    {
     "data": {
      "text/plain": [
       "18"
      ]
     },
     "execution_count": 17,
     "metadata": {},
     "output_type": "execute_result"
    }
   ],
   "source": []
  },
  {
   "cell_type": "code",
   "execution_count": 18,
   "id": "b0b11c36-be8e-4b3b-9d85-dacd24577003",
   "metadata": {
    "execution": {
     "shell.execute_reply.end": "2024-01-08T03:13:44.671683Z",
     "shell.execute_reply.started": "2024-01-08T03:11:13.122418Z",
     "to_execute": "2024-01-08T03:11:12.940Z"
    },
    "libroFormatter": "formatter-string"
   },
   "outputs": [
    {
     "name": "stderr",
     "output_type": "stream",
     "text": [
      "2024-01-08 11:13:13,362 - ridge_corr - INFO - Selecting held-out test set..\n",
      "2024-01-08 11:13:13,370 - ridge_corr - INFO - Doing SVD...\n",
      "2024-01-08 11:13:15,443 - ridge_corr - INFO - Dropped 1 tiny singular values.. (U is now torch.Size([2977, 2976]))\n",
      "2024-01-08 11:13:15,443 - ridge_corr - INFO - Training stimulus has Frobenius norm: 3397.224\n",
      "2024-01-08 11:13:15,470 - ridge_corr - INFO - Training: alpha=10.000, mean corr=0.00000, max corr=0.00000, over-under(0.20)=0\n",
      "2024-01-08 11:13:15,474 - ridge_corr - INFO - Training: alpha=16.681, mean corr=0.00000, max corr=0.00000, over-under(0.20)=0\n",
      "2024-01-08 11:13:15,478 - ridge_corr - INFO - Training: alpha=27.826, mean corr=0.00001, max corr=0.04234, over-under(0.20)=0\n",
      "2024-01-08 11:13:15,482 - ridge_corr - INFO - Training: alpha=46.416, mean corr=0.00009, max corr=0.10953, over-under(0.20)=0\n",
      "2024-01-08 11:13:15,486 - ridge_corr - INFO - Training: alpha=77.426, mean corr=0.00231, max corr=0.17192, over-under(0.20)=0\n",
      "2024-01-08 11:13:15,490 - ridge_corr - INFO - Training: alpha=129.155, mean corr=0.02311, max corr=0.24277, over-under(0.20)=11\n",
      "2024-01-08 11:13:15,494 - ridge_corr - INFO - Training: alpha=215.443, mean corr=0.06027, max corr=0.28712, over-under(0.20)=88\n",
      "2024-01-08 11:13:15,497 - ridge_corr - INFO - Training: alpha=359.381, mean corr=0.08247, max corr=0.31458, over-under(0.20)=182\n",
      "2024-01-08 11:13:15,501 - ridge_corr - INFO - Training: alpha=599.484, mean corr=0.08300, max corr=0.30842, over-under(0.20)=123\n",
      "2024-01-08 11:13:15,505 - ridge_corr - INFO - Training: alpha=1000.000, mean corr=0.07069, max corr=0.27544, over-under(0.20)=38\n",
      "2024-01-08 11:13:15,506 - counter - INFO - 1/15 items complete (2.15 seconds/item, 00:00:30 remaining)\n",
      "2024-01-08 11:13:15,506 - ridge_corr - INFO - Selecting held-out test set..\n",
      "2024-01-08 11:13:15,509 - ridge_corr - INFO - Doing SVD...\n",
      "2024-01-08 11:13:17,260 - ridge_corr - INFO - Dropped 0 tiny singular values.. (U is now torch.Size([2977, 2977]))\n",
      "2024-01-08 11:13:17,260 - ridge_corr - INFO - Training stimulus has Frobenius norm: 3437.968\n",
      "2024-01-08 11:13:17,287 - ridge_corr - INFO - Training: alpha=10.000, mean corr=0.00001, max corr=0.04295, over-under(0.20)=0\n",
      "2024-01-08 11:13:17,291 - ridge_corr - INFO - Training: alpha=16.681, mean corr=0.00002, max corr=0.05389, over-under(0.20)=0\n",
      "2024-01-08 11:13:17,295 - ridge_corr - INFO - Training: alpha=27.826, mean corr=0.00003, max corr=0.07697, over-under(0.20)=0\n",
      "2024-01-08 11:13:17,299 - ridge_corr - INFO - Training: alpha=46.416, mean corr=0.00010, max corr=0.11566, over-under(0.20)=0\n",
      "2024-01-08 11:13:17,303 - ridge_corr - INFO - Training: alpha=77.426, mean corr=0.00126, max corr=0.16270, over-under(0.20)=0\n",
      "2024-01-08 11:13:17,307 - ridge_corr - INFO - Training: alpha=129.155, mean corr=0.01521, max corr=0.21009, over-under(0.20)=3\n",
      "2024-01-08 11:13:17,311 - ridge_corr - INFO - Training: alpha=215.443, mean corr=0.04762, max corr=0.25699, over-under(0.20)=20\n",
      "2024-01-08 11:13:17,315 - ridge_corr - INFO - Training: alpha=359.381, mean corr=0.06927, max corr=0.26929, over-under(0.20)=32\n",
      "2024-01-08 11:13:17,318 - ridge_corr - INFO - Training: alpha=599.484, mean corr=0.07092, max corr=0.25404, over-under(0.20)=21\n",
      "2024-01-08 11:13:17,322 - ridge_corr - INFO - Training: alpha=1000.000, mean corr=0.06002, max corr=0.21512, over-under(0.20)=4\n",
      "2024-01-08 11:13:17,323 - counter - INFO - 2/15 items complete (1.98 seconds/item, 00:00:25 remaining)\n",
      "2024-01-08 11:13:17,323 - ridge_corr - INFO - Selecting held-out test set..\n",
      "2024-01-08 11:13:17,326 - ridge_corr - INFO - Doing SVD...\n",
      "2024-01-08 11:13:19,053 - ridge_corr - INFO - Dropped 0 tiny singular values.. (U is now torch.Size([2977, 2977]))\n",
      "2024-01-08 11:13:19,054 - ridge_corr - INFO - Training stimulus has Frobenius norm: 3423.832\n",
      "2024-01-08 11:13:19,080 - ridge_corr - INFO - Training: alpha=10.000, mean corr=0.00000, max corr=0.00000, over-under(0.20)=0\n",
      "2024-01-08 11:13:19,084 - ridge_corr - INFO - Training: alpha=16.681, mean corr=0.00000, max corr=0.00584, over-under(0.20)=0\n",
      "2024-01-08 11:13:19,088 - ridge_corr - INFO - Training: alpha=27.826, mean corr=0.00001, max corr=0.03268, over-under(0.20)=0\n",
      "2024-01-08 11:13:19,092 - ridge_corr - INFO - Training: alpha=46.416, mean corr=0.00005, max corr=0.07984, over-under(0.20)=0\n",
      "2024-01-08 11:13:19,096 - ridge_corr - INFO - Training: alpha=77.426, mean corr=0.00049, max corr=0.14241, over-under(0.20)=0\n",
      "2024-01-08 11:13:19,100 - ridge_corr - INFO - Training: alpha=129.155, mean corr=0.00671, max corr=0.19176, over-under(0.20)=0\n",
      "2024-01-08 11:13:19,104 - ridge_corr - INFO - Training: alpha=215.443, mean corr=0.03336, max corr=0.20591, over-under(0.20)=2\n",
      "2024-01-08 11:13:19,108 - ridge_corr - INFO - Training: alpha=359.381, mean corr=0.05838, max corr=0.21664, over-under(0.20)=3\n",
      "2024-01-08 11:13:19,112 - ridge_corr - INFO - Training: alpha=599.484, mean corr=0.06391, max corr=0.21106, over-under(0.20)=1\n",
      "2024-01-08 11:13:19,116 - ridge_corr - INFO - Training: alpha=1000.000, mean corr=0.05559, max corr=0.18418, over-under(0.20)=0\n",
      "2024-01-08 11:13:19,116 - counter - INFO - 3/15 items complete (1.92 seconds/item, 00:00:23 remaining)\n",
      "2024-01-08 11:13:19,116 - ridge_corr - INFO - Selecting held-out test set..\n",
      "2024-01-08 11:13:19,119 - ridge_corr - INFO - Doing SVD...\n",
      "2024-01-08 11:13:20,870 - ridge_corr - INFO - Dropped 1 tiny singular values.. (U is now torch.Size([2977, 2976]))\n",
      "2024-01-08 11:13:20,871 - ridge_corr - INFO - Training stimulus has Frobenius norm: 3424.196\n",
      "2024-01-08 11:13:20,897 - ridge_corr - INFO - Training: alpha=10.000, mean corr=0.00000, max corr=0.00000, over-under(0.20)=0\n",
      "2024-01-08 11:13:20,901 - ridge_corr - INFO - Training: alpha=16.681, mean corr=0.00000, max corr=0.00000, over-under(0.20)=0\n",
      "2024-01-08 11:13:20,905 - ridge_corr - INFO - Training: alpha=27.826, mean corr=0.00000, max corr=0.02487, over-under(0.20)=0\n",
      "2024-01-08 11:13:20,909 - ridge_corr - INFO - Training: alpha=46.416, mean corr=0.00002, max corr=0.08067, over-under(0.20)=0\n",
      "2024-01-08 11:13:20,913 - ridge_corr - INFO - Training: alpha=77.426, mean corr=0.00059, max corr=0.14886, over-under(0.20)=0\n",
      "2024-01-08 11:13:20,917 - ridge_corr - INFO - Training: alpha=129.155, mean corr=0.01210, max corr=0.20605, over-under(0.20)=1\n",
      "2024-01-08 11:13:20,921 - ridge_corr - INFO - Training: alpha=215.443, mean corr=0.04311, max corr=0.23531, over-under(0.20)=9\n",
      "2024-01-08 11:13:20,925 - ridge_corr - INFO - Training: alpha=359.381, mean corr=0.06623, max corr=0.23548, over-under(0.20)=15\n",
      "2024-01-08 11:13:20,929 - ridge_corr - INFO - Training: alpha=599.484, mean corr=0.06968, max corr=0.23108, over-under(0.20)=9\n",
      "2024-01-08 11:13:20,933 - ridge_corr - INFO - Training: alpha=1000.000, mean corr=0.06041, max corr=0.20933, over-under(0.20)=1\n",
      "2024-01-08 11:13:20,933 - counter - INFO - 4/15 items complete (1.89 seconds/item, 00:00:20 remaining)\n",
      "2024-01-08 11:13:20,933 - ridge_corr - INFO - Selecting held-out test set..\n",
      "2024-01-08 11:13:20,937 - ridge_corr - INFO - Doing SVD...\n",
      "2024-01-08 11:13:22,679 - ridge_corr - INFO - Dropped 0 tiny singular values.. (U is now torch.Size([2977, 2977]))\n",
      "2024-01-08 11:13:22,680 - ridge_corr - INFO - Training stimulus has Frobenius norm: 3493.134\n",
      "2024-01-08 11:13:22,706 - ridge_corr - INFO - Training: alpha=10.000, mean corr=0.00000, max corr=0.00000, over-under(0.20)=0\n",
      "2024-01-08 11:13:22,710 - ridge_corr - INFO - Training: alpha=16.681, mean corr=0.00000, max corr=0.00000, over-under(0.20)=0\n",
      "2024-01-08 11:13:22,714 - ridge_corr - INFO - Training: alpha=27.826, mean corr=0.00000, max corr=0.01257, over-under(0.20)=0\n",
      "2024-01-08 11:13:22,718 - ridge_corr - INFO - Training: alpha=46.416, mean corr=0.00004, max corr=0.06351, over-under(0.20)=0\n",
      "2024-01-08 11:13:22,722 - ridge_corr - INFO - Training: alpha=77.426, mean corr=0.00060, max corr=0.13431, over-under(0.20)=0\n",
      "2024-01-08 11:13:22,726 - ridge_corr - INFO - Training: alpha=129.155, mean corr=0.00943, max corr=0.20027, over-under(0.20)=1\n",
      "2024-01-08 11:13:22,730 - ridge_corr - INFO - Training: alpha=215.443, mean corr=0.04030, max corr=0.23610, over-under(0.20)=6\n",
      "2024-01-08 11:13:22,734 - ridge_corr - INFO - Training: alpha=359.381, mean corr=0.06483, max corr=0.24558, over-under(0.20)=12\n",
      "2024-01-08 11:13:22,738 - ridge_corr - INFO - Training: alpha=599.484, mean corr=0.06817, max corr=0.23967, over-under(0.20)=5\n",
      "2024-01-08 11:13:22,742 - ridge_corr - INFO - Training: alpha=1000.000, mean corr=0.05754, max corr=0.20955, over-under(0.20)=1\n",
      "2024-01-08 11:13:22,742 - counter - INFO - 5/15 items complete (1.88 seconds/item, 00:00:18 remaining)\n",
      "2024-01-08 11:13:22,742 - ridge_corr - INFO - Selecting held-out test set..\n",
      "2024-01-08 11:13:22,745 - ridge_corr - INFO - Doing SVD...\n",
      "2024-01-08 11:13:24,488 - ridge_corr - INFO - Dropped 1 tiny singular values.. (U is now torch.Size([2977, 2976]))\n",
      "2024-01-08 11:13:24,489 - ridge_corr - INFO - Training stimulus has Frobenius norm: 3433.705\n",
      "2024-01-08 11:13:24,515 - ridge_corr - INFO - Training: alpha=10.000, mean corr=0.00000, max corr=0.00000, over-under(0.20)=0\n",
      "2024-01-08 11:13:24,519 - ridge_corr - INFO - Training: alpha=16.681, mean corr=0.00000, max corr=0.00136, over-under(0.20)=0\n",
      "2024-01-08 11:13:24,523 - ridge_corr - INFO - Training: alpha=27.826, mean corr=0.00001, max corr=0.04116, over-under(0.20)=0\n",
      "2024-01-08 11:13:24,527 - ridge_corr - INFO - Training: alpha=46.416, mean corr=0.00003, max corr=0.11206, over-under(0.20)=0\n",
      "2024-01-08 11:13:24,531 - ridge_corr - INFO - Training: alpha=77.426, mean corr=0.00045, max corr=0.19016, over-under(0.20)=0\n",
      "2024-01-08 11:13:24,535 - ridge_corr - INFO - Training: alpha=129.155, mean corr=0.00926, max corr=0.24852, over-under(0.20)=1\n",
      "2024-01-08 11:13:24,539 - ridge_corr - INFO - Training: alpha=215.443, mean corr=0.03942, max corr=0.27552, over-under(0.20)=4\n",
      "2024-01-08 11:13:24,543 - ridge_corr - INFO - Training: alpha=359.381, mean corr=0.06215, max corr=0.27544, over-under(0.20)=6\n",
      "2024-01-08 11:13:24,547 - ridge_corr - INFO - Training: alpha=599.484, mean corr=0.06447, max corr=0.25300, over-under(0.20)=3\n",
      "2024-01-08 11:13:24,551 - ridge_corr - INFO - Training: alpha=1000.000, mean corr=0.05381, max corr=0.21128, over-under(0.20)=1\n",
      "2024-01-08 11:13:24,552 - counter - INFO - 6/15 items complete (1.87 seconds/item, 00:00:16 remaining)\n",
      "2024-01-08 11:13:24,552 - ridge_corr - INFO - Selecting held-out test set..\n",
      "2024-01-08 11:13:24,555 - ridge_corr - INFO - Doing SVD...\n",
      "2024-01-08 11:13:26,298 - ridge_corr - INFO - Dropped 0 tiny singular values.. (U is now torch.Size([2977, 2977]))\n",
      "2024-01-08 11:13:26,298 - ridge_corr - INFO - Training stimulus has Frobenius norm: 3453.371\n",
      "2024-01-08 11:13:26,324 - ridge_corr - INFO - Training: alpha=10.000, mean corr=0.00001, max corr=0.08408, over-under(0.20)=0\n",
      "2024-01-08 11:13:26,328 - ridge_corr - INFO - Training: alpha=16.681, mean corr=0.00001, max corr=0.09469, over-under(0.20)=0\n",
      "2024-01-08 11:13:26,332 - ridge_corr - INFO - Training: alpha=27.826, mean corr=0.00002, max corr=0.11527, over-under(0.20)=0\n",
      "2024-01-08 11:13:26,336 - ridge_corr - INFO - Training: alpha=46.416, mean corr=0.00005, max corr=0.14461, over-under(0.20)=0\n",
      "2024-01-08 11:13:26,340 - ridge_corr - INFO - Training: alpha=77.426, mean corr=0.00075, max corr=0.17193, over-under(0.20)=0\n",
      "2024-01-08 11:13:26,344 - ridge_corr - INFO - Training: alpha=129.155, mean corr=0.00929, max corr=0.22227, over-under(0.20)=1\n",
      "2024-01-08 11:13:26,348 - ridge_corr - INFO - Training: alpha=215.443, mean corr=0.03922, max corr=0.25593, over-under(0.20)=9\n",
      "2024-01-08 11:13:26,352 - ridge_corr - INFO - Training: alpha=359.381, mean corr=0.06416, max corr=0.26188, over-under(0.20)=13\n",
      "2024-01-08 11:13:26,356 - ridge_corr - INFO - Training: alpha=599.484, mean corr=0.06883, max corr=0.24396, over-under(0.20)=11\n",
      "2024-01-08 11:13:26,360 - ridge_corr - INFO - Training: alpha=1000.000, mean corr=0.05980, max corr=0.20345, over-under(0.20)=1\n",
      "2024-01-08 11:13:26,360 - counter - INFO - 7/15 items complete (1.86 seconds/item, 00:00:14 remaining)\n",
      "2024-01-08 11:13:26,360 - ridge_corr - INFO - Selecting held-out test set..\n",
      "2024-01-08 11:13:26,364 - ridge_corr - INFO - Doing SVD...\n",
      "2024-01-08 11:13:28,108 - ridge_corr - INFO - Dropped 1 tiny singular values.. (U is now torch.Size([2977, 2976]))\n",
      "2024-01-08 11:13:28,109 - ridge_corr - INFO - Training stimulus has Frobenius norm: 3379.374\n",
      "2024-01-08 11:13:28,135 - ridge_corr - INFO - Training: alpha=10.000, mean corr=0.00001, max corr=0.08001, over-under(0.20)=0\n",
      "2024-01-08 11:13:28,139 - ridge_corr - INFO - Training: alpha=16.681, mean corr=0.00001, max corr=0.08766, over-under(0.20)=0\n",
      "2024-01-08 11:13:28,143 - ridge_corr - INFO - Training: alpha=27.826, mean corr=0.00001, max corr=0.10405, over-under(0.20)=0\n",
      "2024-01-08 11:13:28,147 - ridge_corr - INFO - Training: alpha=46.416, mean corr=0.00005, max corr=0.12891, over-under(0.20)=0\n",
      "2024-01-08 11:13:28,151 - ridge_corr - INFO - Training: alpha=77.426, mean corr=0.00094, max corr=0.15286, over-under(0.20)=0\n",
      "2024-01-08 11:13:28,155 - ridge_corr - INFO - Training: alpha=129.155, mean corr=0.01226, max corr=0.21645, over-under(0.20)=1\n",
      "2024-01-08 11:13:28,159 - ridge_corr - INFO - Training: alpha=215.443, mean corr=0.04565, max corr=0.25702, over-under(0.20)=10\n",
      "2024-01-08 11:13:28,163 - ridge_corr - INFO - Training: alpha=359.381, mean corr=0.06966, max corr=0.26877, over-under(0.20)=21\n",
      "2024-01-08 11:13:28,167 - ridge_corr - INFO - Training: alpha=599.484, mean corr=0.07265, max corr=0.25402, over-under(0.20)=15\n",
      "2024-01-08 11:13:28,171 - ridge_corr - INFO - Training: alpha=1000.000, mean corr=0.06240, max corr=0.21592, over-under(0.20)=4\n",
      "2024-01-08 11:13:28,171 - counter - INFO - 8/15 items complete (1.85 seconds/item, 00:00:12 remaining)\n",
      "2024-01-08 11:13:28,171 - ridge_corr - INFO - Selecting held-out test set..\n",
      "2024-01-08 11:13:28,174 - ridge_corr - INFO - Doing SVD...\n",
      "2024-01-08 11:13:29,907 - ridge_corr - INFO - Dropped 0 tiny singular values.. (U is now torch.Size([2977, 2977]))\n",
      "2024-01-08 11:13:29,909 - ridge_corr - INFO - Training stimulus has Frobenius norm: 3290.754\n",
      "2024-01-08 11:13:29,935 - ridge_corr - INFO - Training: alpha=10.000, mean corr=0.00000, max corr=0.01976, over-under(0.20)=0\n",
      "2024-01-08 11:13:29,939 - ridge_corr - INFO - Training: alpha=16.681, mean corr=0.00001, max corr=0.02704, over-under(0.20)=0\n",
      "2024-01-08 11:13:29,943 - ridge_corr - INFO - Training: alpha=27.826, mean corr=0.00002, max corr=0.05562, over-under(0.20)=0\n",
      "2024-01-08 11:13:29,947 - ridge_corr - INFO - Training: alpha=46.416, mean corr=0.00009, max corr=0.11032, over-under(0.20)=0\n",
      "2024-01-08 11:13:29,951 - ridge_corr - INFO - Training: alpha=77.426, mean corr=0.00193, max corr=0.18182, over-under(0.20)=0\n",
      "2024-01-08 11:13:29,955 - ridge_corr - INFO - Training: alpha=129.155, mean corr=0.01949, max corr=0.25031, over-under(0.20)=4\n",
      "2024-01-08 11:13:29,959 - ridge_corr - INFO - Training: alpha=215.443, mean corr=0.05527, max corr=0.28613, over-under(0.20)=29\n",
      "2024-01-08 11:13:29,963 - ridge_corr - INFO - Training: alpha=359.381, mean corr=0.08010, max corr=0.29077, over-under(0.20)=108\n",
      "2024-01-08 11:13:29,966 - ridge_corr - INFO - Training: alpha=599.484, mean corr=0.08408, max corr=0.27179, over-under(0.20)=117\n",
      "2024-01-08 11:13:29,970 - ridge_corr - INFO - Training: alpha=1000.000, mean corr=0.07436, max corr=0.23470, over-under(0.20)=49\n",
      "2024-01-08 11:13:29,971 - counter - INFO - 9/15 items complete (1.85 seconds/item, 00:00:11 remaining)\n",
      "2024-01-08 11:13:29,971 - ridge_corr - INFO - Selecting held-out test set..\n",
      "2024-01-08 11:13:29,974 - ridge_corr - INFO - Doing SVD...\n",
      "2024-01-08 11:13:31,723 - ridge_corr - INFO - Dropped 1 tiny singular values.. (U is now torch.Size([2977, 2976]))\n",
      "2024-01-08 11:13:31,724 - ridge_corr - INFO - Training stimulus has Frobenius norm: 3350.714\n",
      "2024-01-08 11:13:31,751 - ridge_corr - INFO - Training: alpha=10.000, mean corr=0.00000, max corr=0.00000, over-under(0.20)=0\n",
      "2024-01-08 11:13:31,755 - ridge_corr - INFO - Training: alpha=16.681, mean corr=0.00000, max corr=0.00476, over-under(0.20)=0\n",
      "2024-01-08 11:13:31,759 - ridge_corr - INFO - Training: alpha=27.826, mean corr=0.00001, max corr=0.02802, over-under(0.20)=0\n",
      "2024-01-08 11:13:31,763 - ridge_corr - INFO - Training: alpha=46.416, mean corr=0.00006, max corr=0.08034, over-under(0.20)=0\n",
      "2024-01-08 11:13:31,767 - ridge_corr - INFO - Training: alpha=77.426, mean corr=0.00113, max corr=0.15109, over-under(0.20)=0\n",
      "2024-01-08 11:13:31,771 - ridge_corr - INFO - Training: alpha=129.155, mean corr=0.01598, max corr=0.22983, over-under(0.20)=3\n",
      "2024-01-08 11:13:31,774 - ridge_corr - INFO - Training: alpha=215.443, mean corr=0.05223, max corr=0.27727, over-under(0.20)=16\n",
      "2024-01-08 11:13:31,778 - ridge_corr - INFO - Training: alpha=359.381, mean corr=0.07747, max corr=0.29064, over-under(0.20)=27\n",
      "2024-01-08 11:13:31,782 - ridge_corr - INFO - Training: alpha=599.484, mean corr=0.08132, max corr=0.27477, over-under(0.20)=20\n",
      "2024-01-08 11:13:31,786 - ridge_corr - INFO - Training: alpha=1000.000, mean corr=0.07118, max corr=0.23740, over-under(0.20)=4\n",
      "2024-01-08 11:13:31,786 - counter - INFO - 10/15 items complete (1.84 seconds/item, 00:00:09 remaining)\n",
      "2024-01-08 11:13:31,787 - ridge_corr - INFO - Selecting held-out test set..\n",
      "2024-01-08 11:13:31,790 - ridge_corr - INFO - Doing SVD...\n",
      "2024-01-08 11:13:33,536 - ridge_corr - INFO - Dropped 1 tiny singular values.. (U is now torch.Size([2977, 2976]))\n",
      "2024-01-08 11:13:33,537 - ridge_corr - INFO - Training stimulus has Frobenius norm: 3465.541\n",
      "2024-01-08 11:13:33,563 - ridge_corr - INFO - Training: alpha=10.000, mean corr=0.00000, max corr=0.00000, over-under(0.20)=0\n",
      "2024-01-08 11:13:33,567 - ridge_corr - INFO - Training: alpha=16.681, mean corr=0.00000, max corr=0.00000, over-under(0.20)=0\n",
      "2024-01-08 11:13:33,571 - ridge_corr - INFO - Training: alpha=27.826, mean corr=0.00000, max corr=0.00000, over-under(0.20)=0\n",
      "2024-01-08 11:13:33,575 - ridge_corr - INFO - Training: alpha=46.416, mean corr=0.00003, max corr=0.07835, over-under(0.20)=0\n",
      "2024-01-08 11:13:33,579 - ridge_corr - INFO - Training: alpha=77.426, mean corr=0.00052, max corr=0.15634, over-under(0.20)=0\n",
      "2024-01-08 11:13:33,583 - ridge_corr - INFO - Training: alpha=129.155, mean corr=0.00904, max corr=0.21008, over-under(0.20)=2\n",
      "2024-01-08 11:13:33,587 - ridge_corr - INFO - Training: alpha=215.443, mean corr=0.03926, max corr=0.24630, over-under(0.20)=6\n",
      "2024-01-08 11:13:33,590 - ridge_corr - INFO - Training: alpha=359.381, mean corr=0.06347, max corr=0.25299, over-under(0.20)=9\n",
      "2024-01-08 11:13:33,594 - ridge_corr - INFO - Training: alpha=599.484, mean corr=0.06757, max corr=0.23694, over-under(0.20)=5\n",
      "2024-01-08 11:13:33,598 - ridge_corr - INFO - Training: alpha=1000.000, mean corr=0.05798, max corr=0.20160, over-under(0.20)=1\n",
      "2024-01-08 11:13:33,598 - counter - INFO - 11/15 items complete (1.84 seconds/item, 00:00:07 remaining)\n",
      "2024-01-08 11:13:33,599 - ridge_corr - INFO - Selecting held-out test set..\n",
      "2024-01-08 11:13:33,602 - ridge_corr - INFO - Doing SVD...\n",
      "2024-01-08 11:13:35,335 - ridge_corr - INFO - Dropped 1 tiny singular values.. (U is now torch.Size([2977, 2976]))\n",
      "2024-01-08 11:13:35,336 - ridge_corr - INFO - Training stimulus has Frobenius norm: 3302.404\n",
      "2024-01-08 11:13:35,362 - ridge_corr - INFO - Training: alpha=10.000, mean corr=0.00001, max corr=0.06652, over-under(0.20)=0\n",
      "2024-01-08 11:13:35,366 - ridge_corr - INFO - Training: alpha=16.681, mean corr=0.00001, max corr=0.07698, over-under(0.20)=0\n",
      "2024-01-08 11:13:35,370 - ridge_corr - INFO - Training: alpha=27.826, mean corr=0.00005, max corr=0.10188, over-under(0.20)=0\n",
      "2024-01-08 11:13:35,374 - ridge_corr - INFO - Training: alpha=46.416, mean corr=0.00034, max corr=0.16776, over-under(0.20)=0\n",
      "2024-01-08 11:13:35,378 - ridge_corr - INFO - Training: alpha=77.426, mean corr=0.00558, max corr=0.24091, over-under(0.20)=2\n",
      "2024-01-08 11:13:35,382 - ridge_corr - INFO - Training: alpha=129.155, mean corr=0.03052, max corr=0.29720, over-under(0.20)=25\n",
      "2024-01-08 11:13:35,386 - ridge_corr - INFO - Training: alpha=215.443, mean corr=0.06956, max corr=0.32547, over-under(0.20)=266\n",
      "2024-01-08 11:13:35,390 - ridge_corr - INFO - Training: alpha=359.381, mean corr=0.09346, max corr=0.32767, over-under(0.20)=553\n",
      "2024-01-08 11:13:35,394 - ridge_corr - INFO - Training: alpha=599.484, mean corr=0.09554, max corr=0.30738, over-under(0.20)=523\n",
      "2024-01-08 11:13:35,397 - ridge_corr - INFO - Training: alpha=1000.000, mean corr=0.08329, max corr=0.27156, over-under(0.20)=273\n",
      "2024-01-08 11:13:35,398 - counter - INFO - 12/15 items complete (1.84 seconds/item, 00:00:05 remaining)\n",
      "2024-01-08 11:13:35,398 - ridge_corr - INFO - Selecting held-out test set..\n",
      "2024-01-08 11:13:35,401 - ridge_corr - INFO - Doing SVD...\n",
      "2024-01-08 11:13:37,146 - ridge_corr - INFO - Dropped 0 tiny singular values.. (U is now torch.Size([2977, 2977]))\n",
      "2024-01-08 11:13:37,147 - ridge_corr - INFO - Training stimulus has Frobenius norm: 3444.801\n",
      "2024-01-08 11:13:37,173 - ridge_corr - INFO - Training: alpha=10.000, mean corr=0.00000, max corr=0.00000, over-under(0.20)=0\n",
      "2024-01-08 11:13:37,177 - ridge_corr - INFO - Training: alpha=16.681, mean corr=0.00000, max corr=0.00000, over-under(0.20)=0\n",
      "2024-01-08 11:13:37,181 - ridge_corr - INFO - Training: alpha=27.826, mean corr=0.00000, max corr=0.02569, over-under(0.20)=0\n",
      "2024-01-08 11:13:37,185 - ridge_corr - INFO - Training: alpha=46.416, mean corr=0.00003, max corr=0.07788, over-under(0.20)=0\n",
      "2024-01-08 11:13:37,189 - ridge_corr - INFO - Training: alpha=77.426, mean corr=0.00089, max corr=0.14087, over-under(0.20)=0\n",
      "2024-01-08 11:13:37,193 - ridge_corr - INFO - Training: alpha=129.155, mean corr=0.01401, max corr=0.19391, over-under(0.20)=0\n",
      "2024-01-08 11:13:37,197 - ridge_corr - INFO - Training: alpha=215.443, mean corr=0.04717, max corr=0.22657, over-under(0.20)=10\n",
      "2024-01-08 11:13:37,201 - ridge_corr - INFO - Training: alpha=359.381, mean corr=0.06949, max corr=0.23810, over-under(0.20)=15\n",
      "2024-01-08 11:13:37,205 - ridge_corr - INFO - Training: alpha=599.484, mean corr=0.07155, max corr=0.22798, over-under(0.20)=7\n",
      "2024-01-08 11:13:37,209 - ridge_corr - INFO - Training: alpha=1000.000, mean corr=0.06093, max corr=0.19457, over-under(0.20)=0\n",
      "2024-01-08 11:13:37,209 - counter - INFO - 13/15 items complete (1.83 seconds/item, 00:00:03 remaining)\n",
      "2024-01-08 11:13:37,209 - ridge_corr - INFO - Selecting held-out test set..\n",
      "2024-01-08 11:13:37,213 - ridge_corr - INFO - Doing SVD...\n",
      "2024-01-08 11:13:38,952 - ridge_corr - INFO - Dropped 1 tiny singular values.. (U is now torch.Size([2977, 2976]))\n",
      "2024-01-08 11:13:38,953 - ridge_corr - INFO - Training stimulus has Frobenius norm: 3279.399\n",
      "2024-01-08 11:13:38,980 - ridge_corr - INFO - Training: alpha=10.000, mean corr=0.00004, max corr=0.14157, over-under(0.20)=0\n",
      "2024-01-08 11:13:38,984 - ridge_corr - INFO - Training: alpha=16.681, mean corr=0.00004, max corr=0.14645, over-under(0.20)=0\n",
      "2024-01-08 11:13:38,988 - ridge_corr - INFO - Training: alpha=27.826, mean corr=0.00006, max corr=0.15620, over-under(0.20)=0\n",
      "2024-01-08 11:13:38,992 - ridge_corr - INFO - Training: alpha=46.416, mean corr=0.00017, max corr=0.17829, over-under(0.20)=0\n",
      "2024-01-08 11:13:38,996 - ridge_corr - INFO - Training: alpha=77.426, mean corr=0.00289, max corr=0.21760, over-under(0.20)=1\n",
      "2024-01-08 11:13:38,999 - ridge_corr - INFO - Training: alpha=129.155, mean corr=0.02379, max corr=0.24826, over-under(0.20)=9\n",
      "2024-01-08 11:13:39,003 - ridge_corr - INFO - Training: alpha=215.443, mean corr=0.06123, max corr=0.28296, over-under(0.20)=80\n",
      "2024-01-08 11:13:39,007 - ridge_corr - INFO - Training: alpha=359.381, mean corr=0.08513, max corr=0.30098, over-under(0.20)=225\n",
      "2024-01-08 11:13:39,011 - ridge_corr - INFO - Training: alpha=599.484, mean corr=0.08782, max corr=0.29310, over-under(0.20)=212\n",
      "2024-01-08 11:13:39,015 - ridge_corr - INFO - Training: alpha=1000.000, mean corr=0.07677, max corr=0.26306, over-under(0.20)=79\n",
      "2024-01-08 11:13:39,016 - counter - INFO - 14/15 items complete (1.83 seconds/item, 00:00:01 remaining)\n",
      "2024-01-08 11:13:39,016 - ridge_corr - INFO - Selecting held-out test set..\n",
      "2024-01-08 11:13:39,019 - ridge_corr - INFO - Doing SVD...\n",
      "2024-01-08 11:13:40,776 - ridge_corr - INFO - Dropped 1 tiny singular values.. (U is now torch.Size([2977, 2976]))\n",
      "2024-01-08 11:13:40,777 - ridge_corr - INFO - Training stimulus has Frobenius norm: 3466.519\n",
      "2024-01-08 11:13:40,803 - ridge_corr - INFO - Training: alpha=10.000, mean corr=0.00000, max corr=0.00000, over-under(0.20)=0\n",
      "2024-01-08 11:13:40,807 - ridge_corr - INFO - Training: alpha=16.681, mean corr=0.00000, max corr=0.00720, over-under(0.20)=0\n",
      "2024-01-08 11:13:40,811 - ridge_corr - INFO - Training: alpha=27.826, mean corr=0.00001, max corr=0.04450, over-under(0.20)=0\n",
      "2024-01-08 11:13:40,815 - ridge_corr - INFO - Training: alpha=46.416, mean corr=0.00006, max corr=0.10138, over-under(0.20)=0\n",
      "2024-01-08 11:13:40,819 - ridge_corr - INFO - Training: alpha=77.426, mean corr=0.00115, max corr=0.15803, over-under(0.20)=0\n",
      "2024-01-08 11:13:40,823 - ridge_corr - INFO - Training: alpha=129.155, mean corr=0.01434, max corr=0.21025, over-under(0.20)=1\n",
      "2024-01-08 11:13:40,827 - ridge_corr - INFO - Training: alpha=215.443, mean corr=0.04697, max corr=0.26347, over-under(0.20)=14\n",
      "2024-01-08 11:13:40,831 - ridge_corr - INFO - Training: alpha=359.381, mean corr=0.07008, max corr=0.27885, over-under(0.20)=30\n",
      "2024-01-08 11:13:40,835 - ridge_corr - INFO - Training: alpha=599.484, mean corr=0.07244, max corr=0.26363, over-under(0.20)=19\n",
      "2024-01-08 11:13:40,839 - ridge_corr - INFO - Training: alpha=1000.000, mean corr=0.06143, max corr=0.22455, over-under(0.20)=5\n",
      "2024-01-08 11:13:40,839 - counter - INFO - 15/15 items complete (1.83 seconds/item, 00:00:00 remaining)\n",
      "2024-01-08 11:13:44,634 - ridge_corr - INFO - Total training stimulus has Frobenius norm: 3807.397\n",
      "2024-01-08 11:13:44,650 - ridge_corr - INFO - Finding best alpha for each response..\n"
     ]
    }
   ],
   "source": [
    "args2 = copy.deepcopy(args)\n",
    "args2.layer = args.layer + 1\n",
    "rstim, tr_stats, word_stats = get_stim(args, stories, llama, delay=True)\n",
    "rresp, tr_stats, word_stats = get_stim(args2, stories, llama, delay=False)\n",
    "\n",
    "rstim = torch.tensor(rstim).cuda()\n",
    "rresp = torch.tensor(rresp).cuda()\n",
    "\n",
    "nchunks = int(np.ceil(rresp.shape[0] / 5 / config.CHUNKLEN))\n",
    "\n",
    "weights, alphas, bscorrs = bootstrap_ridge_torch(rstim, rresp, use_corr = False, alphas = config.ALPHAS,\n",
    "        nboots = config.NBOOTS, chunklen = config.CHUNKLEN, nchunks = nchunks)        \n",
    "bscorrs = bscorrs.mean(2).max(0)\n",
    "vox = np.sort(np.argsort(bscorrs)[-config.VOXELS:])\n",
    "\n",
    "# del rstim, rresp"
   ]
  },
  {
   "cell_type": "code",
   "execution_count": 23,
   "id": "3a75293b-118f-4c11-84a3-de5fe36514a6",
   "metadata": {
    "execution": {
     "shell.execute_reply.end": "2024-01-08T03:16:46.108100Z",
     "shell.execute_reply.started": "2024-01-08T03:16:46.062810Z",
     "to_execute": "2024-01-08T03:16:45.883Z"
    },
    "libroFormatter": "formatter-string"
   },
   "outputs": [],
   "source": [
    "del rstim, rresp\n",
    "torch.cuda.empty_cache()"
   ]
  },
  {
   "cell_type": "code",
   "execution_count": 56,
   "id": "138e2b54-ed60-40a1-aa45-2af1c62c5c42",
   "metadata": {
    "execution": {
     "shell.execute_reply.end": "2024-01-07T11:27:09.807260Z",
     "shell.execute_reply.started": "2024-01-07T11:25:09.459884Z",
     "to_execute": "2024-01-07T11:25:09.397Z"
    },
    "libroFormatter": "formatter-string"
   },
   "outputs": [
    {
     "name": "stderr",
     "output_type": "stream",
     "text": [
      "2024-01-07 19:26:40,763 - ridge_corr - INFO - Selecting held-out test set..\n",
      "2024-01-07 19:26:40,766 - ridge_corr - INFO - Doing SVD...\n",
      "2024-01-07 19:26:42,320 - ridge_corr - INFO - Dropped 0 tiny singular values.. (U is now torch.Size([2977, 2977]))\n",
      "2024-01-07 19:26:42,320 - ridge_corr - INFO - Training stimulus has Frobenius norm: 2486.823\n",
      "2024-01-07 19:26:42,374 - ridge_corr - INFO - Training: alpha=10.000, mean corr=0.00000, max corr=0.00000, over-under(0.20)=0\n",
      "2024-01-07 19:26:42,386 - ridge_corr - INFO - Training: alpha=16.681, mean corr=0.00000, max corr=0.00000, over-under(0.20)=0\n",
      "2024-01-07 19:26:42,398 - ridge_corr - INFO - Training: alpha=27.826, mean corr=0.00000, max corr=0.00000, over-under(0.20)=0\n",
      "2024-01-07 19:26:42,409 - ridge_corr - INFO - Training: alpha=46.416, mean corr=0.00000, max corr=0.01474, over-under(0.20)=0\n",
      "2024-01-07 19:26:42,421 - ridge_corr - INFO - Training: alpha=77.426, mean corr=0.00008, max corr=0.10191, over-under(0.20)=0\n",
      "2024-01-07 19:26:42,433 - ridge_corr - INFO - Training: alpha=129.155, mean corr=0.00097, max corr=0.14313, over-under(0.20)=0\n",
      "2024-01-07 19:26:42,444 - ridge_corr - INFO - Training: alpha=215.443, mean corr=0.00401, max corr=0.15921, over-under(0.20)=0\n",
      "2024-01-07 19:26:42,456 - ridge_corr - INFO - Training: alpha=359.381, mean corr=0.00783, max corr=0.15922, over-under(0.20)=0\n",
      "2024-01-07 19:26:42,468 - ridge_corr - INFO - Training: alpha=599.484, mean corr=0.00944, max corr=0.14917, over-under(0.20)=0\n",
      "2024-01-07 19:26:42,479 - ridge_corr - INFO - Training: alpha=1000.000, mean corr=0.00826, max corr=0.13856, over-under(0.20)=0\n",
      "2024-01-07 19:26:42,480 - counter - INFO - 1/15 items complete (1.72 seconds/item, 00:00:24 remaining)\n",
      "2024-01-07 19:26:42,480 - ridge_corr - INFO - Selecting held-out test set..\n",
      "2024-01-07 19:26:42,483 - ridge_corr - INFO - Doing SVD...\n",
      "2024-01-07 19:26:44,001 - ridge_corr - INFO - Dropped 0 tiny singular values.. (U is now torch.Size([2977, 2977]))\n",
      "2024-01-07 19:26:44,002 - ridge_corr - INFO - Training stimulus has Frobenius norm: 2529.853\n",
      "2024-01-07 19:26:44,056 - ridge_corr - INFO - Training: alpha=10.000, mean corr=0.00000, max corr=0.00000, over-under(0.20)=0\n",
      "2024-01-07 19:26:44,068 - ridge_corr - INFO - Training: alpha=16.681, mean corr=0.00000, max corr=0.00000, over-under(0.20)=0\n",
      "2024-01-07 19:26:44,080 - ridge_corr - INFO - Training: alpha=27.826, mean corr=0.00000, max corr=0.00000, over-under(0.20)=0\n",
      "2024-01-07 19:26:44,091 - ridge_corr - INFO - Training: alpha=46.416, mean corr=0.00000, max corr=0.02336, over-under(0.20)=0\n",
      "2024-01-07 19:26:44,103 - ridge_corr - INFO - Training: alpha=77.426, mean corr=0.00006, max corr=0.10305, over-under(0.20)=0\n",
      "2024-01-07 19:26:44,115 - ridge_corr - INFO - Training: alpha=129.155, mean corr=0.00075, max corr=0.14223, over-under(0.20)=0\n",
      "2024-01-07 19:26:44,126 - ridge_corr - INFO - Training: alpha=215.443, mean corr=0.00333, max corr=0.16091, over-under(0.20)=0\n",
      "2024-01-07 19:26:44,138 - ridge_corr - INFO - Training: alpha=359.381, mean corr=0.00702, max corr=0.17360, over-under(0.20)=0\n",
      "2024-01-07 19:26:44,150 - ridge_corr - INFO - Training: alpha=599.484, mean corr=0.00895, max corr=0.17588, over-under(0.20)=0\n",
      "2024-01-07 19:26:44,161 - ridge_corr - INFO - Training: alpha=1000.000, mean corr=0.00802, max corr=0.16674, over-under(0.20)=0\n",
      "2024-01-07 19:26:44,162 - counter - INFO - 2/15 items complete (1.70 seconds/item, 00:00:22 remaining)\n",
      "2024-01-07 19:26:44,162 - ridge_corr - INFO - Selecting held-out test set..\n",
      "2024-01-07 19:26:44,165 - ridge_corr - INFO - Doing SVD...\n",
      "2024-01-07 19:26:45,702 - ridge_corr - INFO - Dropped 0 tiny singular values.. (U is now torch.Size([2977, 2977]))\n",
      "2024-01-07 19:26:45,703 - ridge_corr - INFO - Training stimulus has Frobenius norm: 2517.199\n",
      "2024-01-07 19:26:45,757 - ridge_corr - INFO - Training: alpha=10.000, mean corr=0.00000, max corr=0.00000, over-under(0.20)=0\n",
      "2024-01-07 19:26:45,769 - ridge_corr - INFO - Training: alpha=16.681, mean corr=0.00000, max corr=0.00000, over-under(0.20)=0\n",
      "2024-01-07 19:26:45,781 - ridge_corr - INFO - Training: alpha=27.826, mean corr=0.00000, max corr=0.00000, over-under(0.20)=0\n",
      "2024-01-07 19:26:45,793 - ridge_corr - INFO - Training: alpha=46.416, mean corr=0.00000, max corr=0.03570, over-under(0.20)=0\n",
      "2024-01-07 19:26:45,805 - ridge_corr - INFO - Training: alpha=77.426, mean corr=0.00018, max corr=0.10262, over-under(0.20)=0\n",
      "2024-01-07 19:26:45,816 - ridge_corr - INFO - Training: alpha=129.155, mean corr=0.00136, max corr=0.14464, over-under(0.20)=0\n",
      "2024-01-07 19:26:45,828 - ridge_corr - INFO - Training: alpha=215.443, mean corr=0.00438, max corr=0.16748, over-under(0.20)=0\n",
      "2024-01-07 19:26:45,840 - ridge_corr - INFO - Training: alpha=359.381, mean corr=0.00774, max corr=0.17797, over-under(0.20)=0\n",
      "2024-01-07 19:26:45,851 - ridge_corr - INFO - Training: alpha=599.484, mean corr=0.00914, max corr=0.17810, over-under(0.20)=0\n",
      "2024-01-07 19:26:45,863 - ridge_corr - INFO - Training: alpha=1000.000, mean corr=0.00810, max corr=0.16825, over-under(0.20)=0\n",
      "2024-01-07 19:26:45,864 - counter - INFO - 3/15 items complete (1.70 seconds/item, 00:00:20 remaining)\n",
      "2024-01-07 19:26:45,864 - ridge_corr - INFO - Selecting held-out test set..\n",
      "2024-01-07 19:26:45,867 - ridge_corr - INFO - Doing SVD...\n",
      "2024-01-07 19:26:47,399 - ridge_corr - INFO - Dropped 0 tiny singular values.. (U is now torch.Size([2977, 2977]))\n",
      "2024-01-07 19:26:47,400 - ridge_corr - INFO - Training stimulus has Frobenius norm: 2518.240\n",
      "2024-01-07 19:26:47,453 - ridge_corr - INFO - Training: alpha=10.000, mean corr=0.00000, max corr=0.00000, over-under(0.20)=0\n",
      "2024-01-07 19:26:47,465 - ridge_corr - INFO - Training: alpha=16.681, mean corr=0.00000, max corr=0.00000, over-under(0.20)=0\n",
      "2024-01-07 19:26:47,477 - ridge_corr - INFO - Training: alpha=27.826, mean corr=0.00000, max corr=0.00000, over-under(0.20)=0\n",
      "2024-01-07 19:26:47,489 - ridge_corr - INFO - Training: alpha=46.416, mean corr=0.00000, max corr=0.02636, over-under(0.20)=0\n",
      "2024-01-07 19:26:47,501 - ridge_corr - INFO - Training: alpha=77.426, mean corr=0.00013, max corr=0.10269, over-under(0.20)=0\n",
      "2024-01-07 19:26:47,512 - ridge_corr - INFO - Training: alpha=129.155, mean corr=0.00113, max corr=0.13930, over-under(0.20)=0\n",
      "2024-01-07 19:26:47,524 - ridge_corr - INFO - Training: alpha=215.443, mean corr=0.00434, max corr=0.15548, over-under(0.20)=0\n",
      "2024-01-07 19:26:47,536 - ridge_corr - INFO - Training: alpha=359.381, mean corr=0.00813, max corr=0.16062, over-under(0.20)=0\n",
      "2024-01-07 19:26:47,547 - ridge_corr - INFO - Training: alpha=599.484, mean corr=0.00963, max corr=0.15745, over-under(0.20)=0\n",
      "2024-01-07 19:26:47,559 - ridge_corr - INFO - Training: alpha=1000.000, mean corr=0.00831, max corr=0.14637, over-under(0.20)=0\n",
      "2024-01-07 19:26:47,559 - counter - INFO - 4/15 items complete (1.70 seconds/item, 00:00:18 remaining)\n",
      "2024-01-07 19:26:47,560 - ridge_corr - INFO - Selecting held-out test set..\n",
      "2024-01-07 19:26:47,563 - ridge_corr - INFO - Doing SVD...\n",
      "2024-01-07 19:26:49,088 - ridge_corr - INFO - Dropped 0 tiny singular values.. (U is now torch.Size([2977, 2977]))\n",
      "2024-01-07 19:26:49,089 - ridge_corr - INFO - Training stimulus has Frobenius norm: 2489.045\n",
      "2024-01-07 19:26:49,143 - ridge_corr - INFO - Training: alpha=10.000, mean corr=0.00000, max corr=0.00000, over-under(0.20)=0\n",
      "2024-01-07 19:26:49,155 - ridge_corr - INFO - Training: alpha=16.681, mean corr=0.00000, max corr=0.00000, over-under(0.20)=0\n",
      "2024-01-07 19:26:49,167 - ridge_corr - INFO - Training: alpha=27.826, mean corr=0.00000, max corr=0.00000, over-under(0.20)=0\n",
      "2024-01-07 19:26:49,179 - ridge_corr - INFO - Training: alpha=46.416, mean corr=0.00000, max corr=0.00000, over-under(0.20)=0\n",
      "2024-01-07 19:26:49,191 - ridge_corr - INFO - Training: alpha=77.426, mean corr=0.00002, max corr=0.06251, over-under(0.20)=0\n",
      "2024-01-07 19:26:49,202 - ridge_corr - INFO - Training: alpha=129.155, mean corr=0.00059, max corr=0.09142, over-under(0.20)=0\n",
      "2024-01-07 19:26:49,214 - ridge_corr - INFO - Training: alpha=215.443, mean corr=0.00286, max corr=0.10985, over-under(0.20)=0\n",
      "2024-01-07 19:26:49,226 - ridge_corr - INFO - Training: alpha=359.381, mean corr=0.00614, max corr=0.11942, over-under(0.20)=0\n",
      "2024-01-07 19:26:49,237 - ridge_corr - INFO - Training: alpha=599.484, mean corr=0.00782, max corr=0.11624, over-under(0.20)=0\n",
      "2024-01-07 19:26:49,249 - ridge_corr - INFO - Training: alpha=1000.000, mean corr=0.00709, max corr=0.11326, over-under(0.20)=0\n",
      "2024-01-07 19:26:49,249 - counter - INFO - 5/15 items complete (1.70 seconds/item, 00:00:16 remaining)\n",
      "2024-01-07 19:26:49,250 - ridge_corr - INFO - Selecting held-out test set..\n",
      "2024-01-07 19:26:49,253 - ridge_corr - INFO - Doing SVD...\n",
      "2024-01-07 19:26:50,787 - ridge_corr - INFO - Dropped 0 tiny singular values.. (U is now torch.Size([2977, 2977]))\n",
      "2024-01-07 19:26:50,787 - ridge_corr - INFO - Training stimulus has Frobenius norm: 2560.215\n",
      "2024-01-07 19:26:50,841 - ridge_corr - INFO - Training: alpha=10.000, mean corr=0.00000, max corr=0.00000, over-under(0.20)=0\n",
      "2024-01-07 19:26:50,853 - ridge_corr - INFO - Training: alpha=16.681, mean corr=0.00000, max corr=0.00000, over-under(0.20)=0\n",
      "2024-01-07 19:26:50,865 - ridge_corr - INFO - Training: alpha=27.826, mean corr=0.00000, max corr=0.00000, over-under(0.20)=0\n",
      "2024-01-07 19:26:50,877 - ridge_corr - INFO - Training: alpha=46.416, mean corr=0.00001, max corr=0.07676, over-under(0.20)=0\n",
      "2024-01-07 19:26:50,889 - ridge_corr - INFO - Training: alpha=77.426, mean corr=0.00022, max corr=0.14223, over-under(0.20)=0\n",
      "2024-01-07 19:26:50,901 - ridge_corr - INFO - Training: alpha=129.155, mean corr=0.00155, max corr=0.17162, over-under(0.20)=0\n",
      "2024-01-07 19:26:50,912 - ridge_corr - INFO - Training: alpha=215.443, mean corr=0.00517, max corr=0.18663, over-under(0.20)=0\n",
      "2024-01-07 19:26:50,924 - ridge_corr - INFO - Training: alpha=359.381, mean corr=0.00891, max corr=0.19158, over-under(0.20)=0\n",
      "2024-01-07 19:26:50,936 - ridge_corr - INFO - Training: alpha=599.484, mean corr=0.00994, max corr=0.18474, over-under(0.20)=0\n",
      "2024-01-07 19:26:50,947 - ridge_corr - INFO - Training: alpha=1000.000, mean corr=0.00825, max corr=0.16741, over-under(0.20)=0\n",
      "2024-01-07 19:26:50,948 - counter - INFO - 6/15 items complete (1.70 seconds/item, 00:00:15 remaining)\n",
      "2024-01-07 19:26:50,948 - ridge_corr - INFO - Selecting held-out test set..\n",
      "2024-01-07 19:26:50,951 - ridge_corr - INFO - Doing SVD...\n",
      "2024-01-07 19:26:52,487 - ridge_corr - INFO - Dropped 0 tiny singular values.. (U is now torch.Size([2977, 2977]))\n",
      "2024-01-07 19:26:52,488 - ridge_corr - INFO - Training stimulus has Frobenius norm: 2497.549\n",
      "2024-01-07 19:26:52,541 - ridge_corr - INFO - Training: alpha=10.000, mean corr=0.00000, max corr=0.00000, over-under(0.20)=0\n",
      "2024-01-07 19:26:52,554 - ridge_corr - INFO - Training: alpha=16.681, mean corr=0.00000, max corr=0.00000, over-under(0.20)=0\n",
      "2024-01-07 19:26:52,565 - ridge_corr - INFO - Training: alpha=27.826, mean corr=0.00000, max corr=0.00000, over-under(0.20)=0\n",
      "2024-01-07 19:26:52,577 - ridge_corr - INFO - Training: alpha=46.416, mean corr=0.00001, max corr=0.07886, over-under(0.20)=0\n",
      "2024-01-07 19:26:52,589 - ridge_corr - INFO - Training: alpha=77.426, mean corr=0.00020, max corr=0.12098, over-under(0.20)=0\n",
      "2024-01-07 19:26:52,601 - ridge_corr - INFO - Training: alpha=129.155, mean corr=0.00141, max corr=0.14300, over-under(0.20)=0\n",
      "2024-01-07 19:26:52,612 - ridge_corr - INFO - Training: alpha=215.443, mean corr=0.00497, max corr=0.15712, over-under(0.20)=0\n",
      "2024-01-07 19:26:52,624 - ridge_corr - INFO - Training: alpha=359.381, mean corr=0.00887, max corr=0.16065, over-under(0.20)=0\n",
      "2024-01-07 19:26:52,636 - ridge_corr - INFO - Training: alpha=599.484, mean corr=0.01009, max corr=0.15460, over-under(0.20)=0\n",
      "2024-01-07 19:26:52,647 - ridge_corr - INFO - Training: alpha=1000.000, mean corr=0.00852, max corr=0.14149, over-under(0.20)=0\n",
      "2024-01-07 19:26:52,648 - counter - INFO - 7/15 items complete (1.70 seconds/item, 00:00:13 remaining)\n",
      "2024-01-07 19:26:52,648 - ridge_corr - INFO - Selecting held-out test set..\n",
      "2024-01-07 19:26:52,651 - ridge_corr - INFO - Doing SVD...\n",
      "2024-01-07 19:26:54,187 - ridge_corr - INFO - Dropped 0 tiny singular values.. (U is now torch.Size([2977, 2977]))\n",
      "2024-01-07 19:26:54,188 - ridge_corr - INFO - Training stimulus has Frobenius norm: 2544.227\n",
      "2024-01-07 19:26:54,242 - ridge_corr - INFO - Training: alpha=10.000, mean corr=0.00000, max corr=0.00000, over-under(0.20)=0\n",
      "2024-01-07 19:26:54,254 - ridge_corr - INFO - Training: alpha=16.681, mean corr=0.00000, max corr=0.00000, over-under(0.20)=0\n",
      "2024-01-07 19:26:54,266 - ridge_corr - INFO - Training: alpha=27.826, mean corr=0.00000, max corr=0.00000, over-under(0.20)=0\n",
      "2024-01-07 19:26:54,278 - ridge_corr - INFO - Training: alpha=46.416, mean corr=0.00003, max corr=0.10334, over-under(0.20)=0\n",
      "2024-01-07 19:26:54,289 - ridge_corr - INFO - Training: alpha=77.426, mean corr=0.00023, max corr=0.17908, over-under(0.20)=0\n",
      "2024-01-07 19:26:54,301 - ridge_corr - INFO - Training: alpha=129.155, mean corr=0.00124, max corr=0.21254, over-under(0.20)=1\n",
      "2024-01-07 19:26:54,313 - ridge_corr - INFO - Training: alpha=215.443, mean corr=0.00434, max corr=0.22309, over-under(0.20)=4\n",
      "2024-01-07 19:26:54,325 - ridge_corr - INFO - Training: alpha=359.381, mean corr=0.00812, max corr=0.22237, over-under(0.20)=4\n",
      "2024-01-07 19:26:54,337 - ridge_corr - INFO - Training: alpha=599.484, mean corr=0.00973, max corr=0.21945, over-under(0.20)=4\n",
      "2024-01-07 19:26:54,349 - ridge_corr - INFO - Training: alpha=1000.000, mean corr=0.00863, max corr=0.20986, over-under(0.20)=2\n",
      "2024-01-07 19:26:54,349 - counter - INFO - 8/15 items complete (1.70 seconds/item, 00:00:11 remaining)\n",
      "2024-01-07 19:26:54,349 - ridge_corr - INFO - Selecting held-out test set..\n",
      "2024-01-07 19:26:54,352 - ridge_corr - INFO - Doing SVD...\n",
      "2024-01-07 19:26:55,881 - ridge_corr - INFO - Dropped 0 tiny singular values.. (U is now torch.Size([2977, 2977]))\n",
      "2024-01-07 19:26:55,881 - ridge_corr - INFO - Training stimulus has Frobenius norm: 2513.002\n",
      "2024-01-07 19:26:55,935 - ridge_corr - INFO - Training: alpha=10.000, mean corr=0.00000, max corr=0.00000, over-under(0.20)=0\n",
      "2024-01-07 19:26:55,947 - ridge_corr - INFO - Training: alpha=16.681, mean corr=0.00000, max corr=0.00000, over-under(0.20)=0\n",
      "2024-01-07 19:26:55,959 - ridge_corr - INFO - Training: alpha=27.826, mean corr=0.00000, max corr=0.01867, over-under(0.20)=0\n",
      "2024-01-07 19:26:55,971 - ridge_corr - INFO - Training: alpha=46.416, mean corr=0.00006, max corr=0.13484, over-under(0.20)=0\n",
      "2024-01-07 19:26:55,983 - ridge_corr - INFO - Training: alpha=77.426, mean corr=0.00045, max corr=0.20127, over-under(0.20)=1\n",
      "2024-01-07 19:26:55,995 - ridge_corr - INFO - Training: alpha=129.155, mean corr=0.00228, max corr=0.22991, over-under(0.20)=4\n",
      "2024-01-07 19:26:56,006 - ridge_corr - INFO - Training: alpha=215.443, mean corr=0.00656, max corr=0.23622, over-under(0.20)=5\n",
      "2024-01-07 19:26:56,019 - ridge_corr - INFO - Training: alpha=359.381, mean corr=0.01066, max corr=0.23088, over-under(0.20)=5\n",
      "2024-01-07 19:26:56,031 - ridge_corr - INFO - Training: alpha=599.484, mean corr=0.01179, max corr=0.21989, over-under(0.20)=5\n",
      "2024-01-07 19:26:56,043 - ridge_corr - INFO - Training: alpha=1000.000, mean corr=0.00993, max corr=0.20038, over-under(0.20)=1\n",
      "2024-01-07 19:26:56,043 - counter - INFO - 9/15 items complete (1.70 seconds/item, 00:00:10 remaining)\n",
      "2024-01-07 19:26:56,043 - ridge_corr - INFO - Selecting held-out test set..\n",
      "2024-01-07 19:26:56,046 - ridge_corr - INFO - Doing SVD...\n",
      "2024-01-07 19:26:57,578 - ridge_corr - INFO - Dropped 0 tiny singular values.. (U is now torch.Size([2977, 2977]))\n",
      "2024-01-07 19:26:57,579 - ridge_corr - INFO - Training stimulus has Frobenius norm: 2497.585\n",
      "2024-01-07 19:26:57,634 - ridge_corr - INFO - Training: alpha=10.000, mean corr=0.00000, max corr=0.00000, over-under(0.20)=0\n",
      "2024-01-07 19:26:57,647 - ridge_corr - INFO - Training: alpha=16.681, mean corr=0.00000, max corr=0.00000, over-under(0.20)=0\n",
      "2024-01-07 19:26:57,659 - ridge_corr - INFO - Training: alpha=27.826, mean corr=0.00000, max corr=0.00000, over-under(0.20)=0\n",
      "2024-01-07 19:26:57,670 - ridge_corr - INFO - Training: alpha=46.416, mean corr=0.00000, max corr=0.01773, over-under(0.20)=0\n",
      "2024-01-07 19:26:57,682 - ridge_corr - INFO - Training: alpha=77.426, mean corr=0.00003, max corr=0.08063, over-under(0.20)=0\n",
      "2024-01-07 19:26:57,694 - ridge_corr - INFO - Training: alpha=129.155, mean corr=0.00047, max corr=0.11828, over-under(0.20)=0\n",
      "2024-01-07 19:26:57,706 - ridge_corr - INFO - Training: alpha=215.443, mean corr=0.00223, max corr=0.13454, over-under(0.20)=0\n",
      "2024-01-07 19:26:57,717 - ridge_corr - INFO - Training: alpha=359.381, mean corr=0.00496, max corr=0.13961, over-under(0.20)=0\n",
      "2024-01-07 19:26:57,729 - ridge_corr - INFO - Training: alpha=599.484, mean corr=0.00668, max corr=0.13900, over-under(0.20)=0\n",
      "2024-01-07 19:26:57,741 - ridge_corr - INFO - Training: alpha=1000.000, mean corr=0.00632, max corr=0.13310, over-under(0.20)=0\n",
      "2024-01-07 19:26:57,741 - counter - INFO - 10/15 items complete (1.70 seconds/item, 00:00:08 remaining)\n",
      "2024-01-07 19:26:57,741 - ridge_corr - INFO - Selecting held-out test set..\n",
      "2024-01-07 19:26:57,744 - ridge_corr - INFO - Doing SVD...\n",
      "2024-01-07 19:26:59,262 - ridge_corr - INFO - Dropped 0 tiny singular values.. (U is now torch.Size([2977, 2977]))\n",
      "2024-01-07 19:26:59,263 - ridge_corr - INFO - Training stimulus has Frobenius norm: 2509.042\n",
      "2024-01-07 19:26:59,316 - ridge_corr - INFO - Training: alpha=10.000, mean corr=0.00000, max corr=0.00000, over-under(0.20)=0\n",
      "2024-01-07 19:26:59,329 - ridge_corr - INFO - Training: alpha=16.681, mean corr=0.00000, max corr=0.00000, over-under(0.20)=0\n",
      "2024-01-07 19:26:59,341 - ridge_corr - INFO - Training: alpha=27.826, mean corr=0.00000, max corr=0.00000, over-under(0.20)=0\n",
      "2024-01-07 19:26:59,353 - ridge_corr - INFO - Training: alpha=46.416, mean corr=0.00003, max corr=0.08960, over-under(0.20)=0\n",
      "2024-01-07 19:26:59,364 - ridge_corr - INFO - Training: alpha=77.426, mean corr=0.00033, max corr=0.14708, over-under(0.20)=0\n",
      "2024-01-07 19:26:59,376 - ridge_corr - INFO - Training: alpha=129.155, mean corr=0.00168, max corr=0.17235, over-under(0.20)=0\n",
      "2024-01-07 19:26:59,388 - ridge_corr - INFO - Training: alpha=215.443, mean corr=0.00480, max corr=0.18183, over-under(0.20)=0\n",
      "2024-01-07 19:26:59,399 - ridge_corr - INFO - Training: alpha=359.381, mean corr=0.00811, max corr=0.18268, over-under(0.20)=0\n",
      "2024-01-07 19:26:59,411 - ridge_corr - INFO - Training: alpha=599.484, mean corr=0.00928, max corr=0.17881, over-under(0.20)=0\n",
      "2024-01-07 19:26:59,423 - ridge_corr - INFO - Training: alpha=1000.000, mean corr=0.00792, max corr=0.16617, over-under(0.20)=0\n",
      "2024-01-07 19:26:59,423 - counter - INFO - 11/15 items complete (1.70 seconds/item, 00:00:06 remaining)\n",
      "2024-01-07 19:26:59,424 - ridge_corr - INFO - Selecting held-out test set..\n",
      "2024-01-07 19:26:59,427 - ridge_corr - INFO - Doing SVD...\n",
      "2024-01-07 19:27:00,948 - ridge_corr - INFO - Dropped 0 tiny singular values.. (U is now torch.Size([2977, 2977]))\n",
      "2024-01-07 19:27:00,949 - ridge_corr - INFO - Training stimulus has Frobenius norm: 2514.278\n",
      "2024-01-07 19:27:01,003 - ridge_corr - INFO - Training: alpha=10.000, mean corr=0.00000, max corr=0.00000, over-under(0.20)=0\n",
      "2024-01-07 19:27:01,015 - ridge_corr - INFO - Training: alpha=16.681, mean corr=0.00000, max corr=0.00000, over-under(0.20)=0\n",
      "2024-01-07 19:27:01,027 - ridge_corr - INFO - Training: alpha=27.826, mean corr=0.00000, max corr=0.00000, over-under(0.20)=0\n",
      "2024-01-07 19:27:01,039 - ridge_corr - INFO - Training: alpha=46.416, mean corr=0.00001, max corr=0.07727, over-under(0.20)=0\n",
      "2024-01-07 19:27:01,051 - ridge_corr - INFO - Training: alpha=77.426, mean corr=0.00013, max corr=0.15530, over-under(0.20)=0\n",
      "2024-01-07 19:27:01,063 - ridge_corr - INFO - Training: alpha=129.155, mean corr=0.00062, max corr=0.19458, over-under(0.20)=0\n",
      "2024-01-07 19:27:01,075 - ridge_corr - INFO - Training: alpha=215.443, mean corr=0.00243, max corr=0.21084, over-under(0.20)=1\n",
      "2024-01-07 19:27:01,087 - ridge_corr - INFO - Training: alpha=359.381, mean corr=0.00545, max corr=0.21229, over-under(0.20)=1\n",
      "2024-01-07 19:27:01,098 - ridge_corr - INFO - Training: alpha=599.484, mean corr=0.00736, max corr=0.20262, over-under(0.20)=1\n",
      "2024-01-07 19:27:01,110 - ridge_corr - INFO - Training: alpha=1000.000, mean corr=0.00696, max corr=0.18344, over-under(0.20)=0\n",
      "2024-01-07 19:27:01,110 - counter - INFO - 12/15 items complete (1.70 seconds/item, 00:00:05 remaining)\n",
      "2024-01-07 19:27:01,111 - ridge_corr - INFO - Selecting held-out test set..\n",
      "2024-01-07 19:27:01,114 - ridge_corr - INFO - Doing SVD...\n",
      "2024-01-07 19:27:02,646 - ridge_corr - INFO - Dropped 0 tiny singular values.. (U is now torch.Size([2977, 2977]))\n",
      "2024-01-07 19:27:02,647 - ridge_corr - INFO - Training stimulus has Frobenius norm: 2500.858\n",
      "2024-01-07 19:27:02,701 - ridge_corr - INFO - Training: alpha=10.000, mean corr=0.00000, max corr=0.00000, over-under(0.20)=0\n",
      "2024-01-07 19:27:02,713 - ridge_corr - INFO - Training: alpha=16.681, mean corr=0.00000, max corr=0.00000, over-under(0.20)=0\n",
      "2024-01-07 19:27:02,725 - ridge_corr - INFO - Training: alpha=27.826, mean corr=0.00000, max corr=0.00000, over-under(0.20)=0\n",
      "2024-01-07 19:27:02,737 - ridge_corr - INFO - Training: alpha=46.416, mean corr=0.00001, max corr=0.05692, over-under(0.20)=0\n",
      "2024-01-07 19:27:02,749 - ridge_corr - INFO - Training: alpha=77.426, mean corr=0.00022, max corr=0.13760, over-under(0.20)=0\n",
      "2024-01-07 19:27:02,761 - ridge_corr - INFO - Training: alpha=129.155, mean corr=0.00142, max corr=0.17090, over-under(0.20)=0\n",
      "2024-01-07 19:27:02,772 - ridge_corr - INFO - Training: alpha=215.443, mean corr=0.00444, max corr=0.17676, over-under(0.20)=0\n",
      "2024-01-07 19:27:02,784 - ridge_corr - INFO - Training: alpha=359.381, mean corr=0.00775, max corr=0.16982, over-under(0.20)=0\n",
      "2024-01-07 19:27:02,796 - ridge_corr - INFO - Training: alpha=599.484, mean corr=0.00898, max corr=0.16217, over-under(0.20)=0\n",
      "2024-01-07 19:27:02,808 - ridge_corr - INFO - Training: alpha=1000.000, mean corr=0.00771, max corr=0.15004, over-under(0.20)=0\n",
      "2024-01-07 19:27:02,808 - counter - INFO - 13/15 items complete (1.70 seconds/item, 00:00:03 remaining)\n",
      "2024-01-07 19:27:02,808 - ridge_corr - INFO - Selecting held-out test set..\n",
      "2024-01-07 19:27:02,811 - ridge_corr - INFO - Doing SVD...\n",
      "2024-01-07 19:27:04,338 - ridge_corr - INFO - Dropped 0 tiny singular values.. (U is now torch.Size([2977, 2977]))\n",
      "2024-01-07 19:27:04,339 - ridge_corr - INFO - Training stimulus has Frobenius norm: 2463.786\n",
      "2024-01-07 19:27:04,393 - ridge_corr - INFO - Training: alpha=10.000, mean corr=0.00000, max corr=0.00000, over-under(0.20)=0\n",
      "2024-01-07 19:27:04,405 - ridge_corr - INFO - Training: alpha=16.681, mean corr=0.00000, max corr=0.00000, over-under(0.20)=0\n",
      "2024-01-07 19:27:04,417 - ridge_corr - INFO - Training: alpha=27.826, mean corr=0.00000, max corr=0.00000, over-under(0.20)=0\n",
      "2024-01-07 19:27:04,429 - ridge_corr - INFO - Training: alpha=46.416, mean corr=0.00002, max corr=0.09671, over-under(0.20)=0\n",
      "2024-01-07 19:27:04,441 - ridge_corr - INFO - Training: alpha=77.426, mean corr=0.00026, max corr=0.15552, over-under(0.20)=0\n",
      "2024-01-07 19:27:04,452 - ridge_corr - INFO - Training: alpha=129.155, mean corr=0.00155, max corr=0.17664, over-under(0.20)=0\n",
      "2024-01-07 19:27:04,464 - ridge_corr - INFO - Training: alpha=215.443, mean corr=0.00491, max corr=0.17960, over-under(0.20)=0\n",
      "2024-01-07 19:27:04,476 - ridge_corr - INFO - Training: alpha=359.381, mean corr=0.00860, max corr=0.17463, over-under(0.20)=0\n",
      "2024-01-07 19:27:04,487 - ridge_corr - INFO - Training: alpha=599.484, mean corr=0.00978, max corr=0.16547, over-under(0.20)=0\n",
      "2024-01-07 19:27:04,499 - ridge_corr - INFO - Training: alpha=1000.000, mean corr=0.00818, max corr=0.15136, over-under(0.20)=0\n",
      "2024-01-07 19:27:04,499 - counter - INFO - 14/15 items complete (1.70 seconds/item, 00:00:01 remaining)\n",
      "2024-01-07 19:27:04,500 - ridge_corr - INFO - Selecting held-out test set..\n",
      "2024-01-07 19:27:04,503 - ridge_corr - INFO - Doing SVD...\n",
      "2024-01-07 19:27:06,040 - ridge_corr - INFO - Dropped 0 tiny singular values.. (U is now torch.Size([2977, 2977]))\n",
      "2024-01-07 19:27:06,041 - ridge_corr - INFO - Training stimulus has Frobenius norm: 2519.195\n",
      "2024-01-07 19:27:06,095 - ridge_corr - INFO - Training: alpha=10.000, mean corr=0.00000, max corr=0.00000, over-under(0.20)=0\n",
      "2024-01-07 19:27:06,107 - ridge_corr - INFO - Training: alpha=16.681, mean corr=0.00000, max corr=0.00000, over-under(0.20)=0\n",
      "2024-01-07 19:27:06,119 - ridge_corr - INFO - Training: alpha=27.826, mean corr=0.00000, max corr=0.00000, over-under(0.20)=0\n",
      "2024-01-07 19:27:06,131 - ridge_corr - INFO - Training: alpha=46.416, mean corr=0.00000, max corr=0.00000, over-under(0.20)=0\n",
      "2024-01-07 19:27:06,143 - ridge_corr - INFO - Training: alpha=77.426, mean corr=0.00011, max corr=0.08116, over-under(0.20)=0\n",
      "2024-01-07 19:27:06,155 - ridge_corr - INFO - Training: alpha=129.155, mean corr=0.00150, max corr=0.12097, over-under(0.20)=0\n",
      "2024-01-07 19:27:06,166 - ridge_corr - INFO - Training: alpha=215.443, mean corr=0.00526, max corr=0.13324, over-under(0.20)=0\n",
      "2024-01-07 19:27:06,178 - ridge_corr - INFO - Training: alpha=359.381, mean corr=0.00915, max corr=0.12995, over-under(0.20)=0\n",
      "2024-01-07 19:27:06,190 - ridge_corr - INFO - Training: alpha=599.484, mean corr=0.01033, max corr=0.13153, over-under(0.20)=0\n",
      "2024-01-07 19:27:06,201 - ridge_corr - INFO - Training: alpha=1000.000, mean corr=0.00855, max corr=0.12605, over-under(0.20)=0\n",
      "2024-01-07 19:27:06,202 - counter - INFO - 15/15 items complete (1.70 seconds/item, 00:00:00 remaining)\n",
      "2024-01-07 19:27:09,712 - ridge_corr - INFO - Total training stimulus has Frobenius norm: 2820.619\n",
      "2024-01-07 19:27:09,768 - ridge_corr - INFO - Finding best alpha for each response..\n"
     ]
    }
   ],
   "source": [
    "rresp, tr_stats, word_stats = get_stim(args, stories, llama, delay=False)\n",
    "rstim = get_resp(args.subject, stories, stack = True, delay=True, vox = vox)\n",
    "\n",
    "rstim = torch.tensor(rstim).cuda()\n",
    "rresp = torch.tensor(rresp).cuda()\n",
    "\n",
    "nchunks = int(np.ceil(rresp.shape[0] / 5 / config.CHUNKLEN))\n",
    "\n",
    "_, alphas, bscorrs = bootstrap_ridge_torch(rresp, rstim, use_corr = False, alphas = config.ALPHAS,\n",
    "        nboots = config.NBOOTS, chunklen = config.CHUNKLEN, nchunks = nchunks)        \n",
    "bscorrs = bscorrs.mean(2).max(0)\n",
    "llm_vox = np.sort(np.argsort(bscorrs)[-config.VOXELS:])\n",
    "\n",
    "del rstim, rresp"
   ]
  },
  {
   "cell_type": "code",
   "execution_count": 24,
   "id": "1821358b-66a5-44f3-a296-943eba9d2f3b",
   "metadata": {
    "execution": {
     "shell.execute_reply.end": "2024-01-08T03:24:16.846272Z",
     "shell.execute_reply.started": "2024-01-08T03:18:06.557478Z",
     "to_execute": "2024-01-08T03:18:06.374Z"
    },
    "libroFormatter": "formatter-string"
   },
   "outputs": [],
   "source": [
    "stim_dict = {story : get_stim(args, [story], llama, delay=True)[0] for story in stories}\n",
    "resp_dict = {story : get_stim(args2, [story], llama, delay=False)[0] for story in stories}"
   ]
  },
  {
   "cell_type": "code",
   "execution_count": 25,
   "id": "4d185dce-68c1-488a-aaa0-e4d105b519d7",
   "metadata": {
    "execution": {
     "shell.execute_reply.end": "2024-01-08T03:25:20.068992Z",
     "shell.execute_reply.started": "2024-01-08T03:24:34.851752Z",
     "to_execute": "2024-01-08T03:24:34.663Z"
    },
    "libroFormatter": "formatter-string"
   },
   "outputs": [
    {
     "name": "stdout",
     "output_type": "stream",
     "text": [
      "PearsonRResult(statistic=0.2216686750672747, pvalue=0.0)\n",
      "PearsonRResult(statistic=0.20648518891327244, pvalue=0.0)\n",
      "PearsonRResult(statistic=0.20083938616936117, pvalue=0.0)\n",
      "PearsonRResult(statistic=0.17719768939144936, pvalue=0.0)\n",
      "PearsonRResult(statistic=0.20235533695530714, pvalue=0.0)\n",
      "PearsonRResult(statistic=0.2174478444259279, pvalue=0.0)\n",
      "PearsonRResult(statistic=0.20448339628057602, pvalue=0.0)\n",
      "PearsonRResult(statistic=0.1847570591852558, pvalue=0.0)\n",
      "PearsonRResult(statistic=0.2000519068334876, pvalue=0.0)\n",
      "PearsonRResult(statistic=0.20726467936869294, pvalue=0.0)\n"
     ]
    }
   ],
   "source": [
    "# noise_model = torch.zeros([len(vox), len(vox)]).cuda()\n",
    "for hstory in stories:\n",
    "    tstim, hstim = np.vstack([stim_dict[tstory] for tstory in stories if tstory != hstory]), stim_dict[hstory]\n",
    "    tresp, hresp = np.vstack([resp_dict[tstory] for tstory in stories if tstory != hstory]), resp_dict[hstory]\n",
    "    tstim, hstim = torch.tensor(tstim).cuda(), torch.tensor(hstim).cuda()\n",
    "    tresp, hresp = torch.tensor(tresp).cuda(), torch.tensor(hresp).cuda()\n",
    "    bs_weights = ridge_torch(tstim, tresp, alphas[vox])\n",
    "    bs_weights = bs_weights.to(hstim.device).to(hstim.dtype)\n",
    "    pred = hstim.matmul(bs_weights)\n",
    "    # resids = hresp - pred\n",
    "    # bs_noise_model = resids.T.matmul(resids)\n",
    "    # noise_model += bs_noise_model / torch.diag(bs_noise_model).mean() / len(stories)\n",
    "\n",
    "    pred = pred.cpu().numpy() \n",
    "    hresp = hresp.cpu().numpy()\n",
    "    print(scipy.stats.pearsonr(pred.flatten(), hresp.flatten()))\n"
   ]
  },
  {
   "cell_type": "code",
   "execution_count": 61,
   "id": "ec6c9433-7582-4fda-849d-a58312113231",
   "metadata": {
    "execution": {
     "shell.execute_reply.end": "2024-01-07T11:50:25.399739Z",
     "shell.execute_reply.started": "2024-01-07T11:50:25.374972Z",
     "to_execute": "2024-01-07T11:50:25.358Z"
    },
    "libroFormatter": "formatter-string"
   },
   "outputs": [
    {
     "data": {
      "text/plain": [
       "(343, 40000)"
      ]
     },
     "execution_count": 61,
     "metadata": {},
     "output_type": "execute_result"
    }
   ],
   "source": [
    "stim_dict['alternateithicatom'].shape"
   ]
  },
  {
   "cell_type": "code",
   "execution_count": 67,
   "id": "41ca1252-c82a-4102-b913-12aaeff927ca",
   "metadata": {
    "execution": {
     "shell.execute_reply.end": "2024-01-07T11:57:06.361078Z",
     "shell.execute_reply.started": "2024-01-07T11:57:06.339688Z",
     "to_execute": "2024-01-07T11:57:06.338Z"
    },
    "libroFormatter": "formatter-string"
   },
   "outputs": [
    {
     "data": {
      "text/plain": [
       "(343, 11008)"
      ]
     },
     "execution_count": 67,
     "metadata": {},
     "output_type": "execute_result"
    }
   ],
   "source": [
    "a = "
   ]
  },
  {
   "cell_type": "code",
   "execution_count": 7,
   "id": "6f192caa-ea19-44cb-9fca-70bf7cf4a02e",
   "metadata": {
    "execution": {
     "shell.execute_reply.end": "2024-01-07T12:12:19.633760Z",
     "shell.execute_reply.started": "2024-01-07T12:12:19.424120Z",
     "to_execute": "2024-01-07T12:12:19.438Z"
    },
    "libroFormatter": "formatter-string"
   },
   "outputs": [
    {
     "data": {
      "text/plain": [
       "PearsonRResult(statistic=1.0, pvalue=0.0)"
      ]
     },
     "execution_count": 7,
     "metadata": {},
     "output_type": "execute_result"
    }
   ],
   "source": [
    "scipy.stats.pearsonr([1,2,3,4], [0,1,2,3])"
   ]
  },
  {
   "cell_type": "code",
   "execution_count": 79,
   "id": "b59303d0-a42b-491b-ad0a-d904d143a9a1",
   "metadata": {
    "execution": {
     "shell.execute_reply.end": "2024-01-08T12:19:50.221285Z",
     "shell.execute_reply.started": "2024-01-08T12:19:49.661271Z",
     "to_execute": "2024-01-08T12:19:49.639Z"
    },
    "libroFormatter": "formatter-string"
   },
   "outputs": [],
   "source": [
    "def get_resp_torch(subject, stories, stack = True, vox = None, delay=False):\n",
    "    \"\"\"loads response data\n",
    "    \"\"\"\n",
    "    subject_dir = os.path.join(config.DATA_TRAIN_DIR, \"train_response\", subject)\n",
    "    resp = {}\n",
    "    for story in stories:\n",
    "        resp_path = os.path.join(subject_dir, \"%s.hf5\" % story)\n",
    "        hf = h5py.File(resp_path, \"r\")\n",
    "        resp[story] = torch.nan_to_num(torch.tensor(hf[\"data\"][:]))\n",
    "        if vox is not None:\n",
    "            resp[story] = resp[story][:, vox]\n",
    "        if delay:\n",
    "            resp[story] = make_delayed(resp[story], config.RESP_DELAYS)\n",
    "        hf.close()\n",
    "    if stack: return torch.vstack([resp[story] for story in stories]) \n",
    "    else: return resp"
   ]
  },
  {
   "cell_type": "code",
   "execution_count": 67,
   "id": "58747ab7-e1fe-4ddb-8c9c-b6ba04449d2e",
   "metadata": {
    "execution": {
     "shell.execute_reply.end": "2024-01-08T12:09:07.198009Z",
     "shell.execute_reply.started": "2024-01-08T12:08:31.954589Z",
     "to_execute": "2024-01-08T12:08:31.930Z"
    },
    "libroFormatter": "formatter-string"
   },
   "outputs": [],
   "source": [
    "rstim, tr_stats, word_stats = get_stim(args, stories, llama, delay=True)"
   ]
  },
  {
   "cell_type": "code",
   "execution_count": 74,
   "id": "8bdcb50b-9070-46a8-b4bf-3bb3244eb984",
   "metadata": {
    "execution": {
     "shell.execute_reply.end": "2024-01-08T12:16:46.135993Z",
     "shell.execute_reply.started": "2024-01-08T12:16:39.728258Z",
     "to_execute": "2024-01-08T12:16:39.702Z"
    },
    "libroFormatter": "formatter-string"
   },
   "outputs": [],
   "source": [
    "rstim_torch, tr_stats, word_stats = get_stim_torch(args, stories, llama, delay=True)"
   ]
  },
  {
   "cell_type": "code",
   "execution_count": 80,
   "id": "ddeb4b2d-fe28-45ef-846b-d090f3f7250c",
   "metadata": {
    "execution": {
     "shell.execute_reply.end": "2024-01-08T12:20:42.057938Z",
     "shell.execute_reply.started": "2024-01-08T12:20:41.931301Z",
     "to_execute": "2024-01-08T12:20:41.905Z"
    },
    "libroFormatter": "formatter-string"
   },
   "outputs": [
    {
     "data": {
      "text/plain": [
       "tensor([[ 0.0000,  0.0000,  0.0000,  ...,  0.0000,  0.0000,  0.0000],\n",
       "        [ 1.1978, -0.2035, -0.4431,  ...,  0.0000,  0.0000,  0.0000],\n",
       "        [ 2.4368, -0.7872, -1.7411,  ...,  0.0000,  0.0000,  0.0000],\n",
       "        ...,\n",
       "        [ 1.0638, -0.0788, -1.0208,  ...,  0.9335, -0.1072,  1.0394],\n",
       "        [ 0.6023, -0.3566, -0.1209,  ..., -1.1465,  2.6773,  0.8388],\n",
       "        [ 0.4143,  0.2978, -0.3690,  ...,  0.5060, -0.2307, -0.2083]],\n",
       "       device='cuda:0')"
      ]
     },
     "execution_count": 80,
     "metadata": {},
     "output_type": "execute_result"
    }
   ],
   "source": [
    "rstim_torch.cuda()"
   ]
  },
  {
   "cell_type": "code",
   "execution_count": 81,
   "id": "5a9548fd-b3b9-43f2-9fff-d543736bccb4",
   "metadata": {
    "execution": {
     "shell.execute_reply.end": "2024-01-08T12:20:46.922520Z",
     "shell.execute_reply.started": "2024-01-08T12:20:46.897590Z",
     "to_execute": "2024-01-08T12:20:46.946Z"
    },
    "libroFormatter": "formatter-string"
   },
   "outputs": [
    {
     "data": {
      "text/plain": [
       "device(type='cpu')"
      ]
     },
     "execution_count": 81,
     "metadata": {},
     "output_type": "execute_result"
    }
   ],
   "source": [
    "rstim_torch.device"
   ]
  },
  {
   "cell_type": "code",
   "execution_count": null,
   "id": "9cdb0fc4-3433-4fd1-84a2-83ebefffba3f",
   "metadata": {
    "libroFormatter": "formatter-string"
   },
   "outputs": [],
   "source": []
  }
 ],
 "metadata": {
  "kernelspec": {
   "display_name": "python3.8",
   "name": "python3"
  }
 },
 "nbformat": 4,
 "nbformat_minor": 5
}
