{
 "cells": [
  {
   "cell_type": "code",
   "execution_count": 1,
   "id": "c505fcbc-8bce-449e-bd44-297b5cad1e54",
   "metadata": {
    "execution": {
     "shell.execute_reply.end": "2024-01-05T17:05:09.837145Z",
     "shell.execute_reply.started": "2024-01-05T17:05:03.158044Z",
     "to_execute": "2024-01-05T17:05:03.075Z"
    },
    "libroFormatter": "formatter-string"
   },
   "outputs": [
    {
     "name": "stderr",
     "output_type": "stream",
     "text": [
      "/opt/conda/lib/python3.8/site-packages/tqdm/auto.py:21: TqdmWarning: IProgress not found. Please update jupyter and ipywidgets. See https://ipywidgets.readthedocs.io/en/stable/user_install.html\n",
      "  from .autonotebook import tqdm as notebook_tqdm\n",
      "2024-01-06 01:05:07,634 - numexpr.utils - INFO - Note: NumExpr detected 12 cores but \"NUMEXPR_MAX_THREADS\" not set, so enforcing safe limit of 8.\n",
      "2024-01-06 01:05:07,635 - numexpr.utils - INFO - NumExpr defaulting to 8 threads.\n",
      "/opt/conda/lib/python3.8/site-packages/torch/__init__.py:614: UserWarning: torch.set_default_tensor_type() is deprecated as of PyTorch 2.1, please use torch.set_default_dtype() and torch.set_default_device() as alternatives. (Triggered internally at ../torch/csrc/tensor/python_tensor.cpp:451.)\n",
      "  _C._set_default_tensor_type(t)\n"
     ]
    }
   ],
   "source": [
    "%load_ext autoreload\n",
    "%autoreload 2\n",
    "import os\n",
    "import numpy as np\n",
    "import json\n",
    "import argparse\n",
    "import random\n",
    "import scipy\n",
    "import config\n",
    "from GPT import GPT\n",
    "from LLAMA import LLAMA\n",
    "from StimulusModel import LMFeatures\n",
    "from utils_stim import get_stim, get_story_wordseqs\n",
    "from utils_resp import get_resp\n",
    "from utils_ridge.ridge import ridge, bootstrap_ridge, ridge_corr\n",
    "from utils_ridge.ridge_torch import ridge_torch, bootstrap_ridge_torch, ridge_corr_torch\n",
    "from utils_ridge.stimulus_utils import TRFile, load_textgrids, load_simulated_trfiles\n",
    "from utils_ridge.dsutils import make_word_ds\n",
    "from utils_ridge.interpdata import lanczosinterp2D\n",
    "from utils_ridge.util import make_delayed\n",
    "from utils_ridge.utils import mult_diag, counter\n",
    "import torch\n",
    "from transformers import AutoModelForCausalLM, AutoTokenizer, AutoConfig\n",
    "import utils_llama.activation as ana\n",
    "\n",
    "import scipy\n",
    "import math\n",
    "import matplotlib.pyplot as plt\n",
    "\n",
    "import time"
   ]
  },
  {
   "cell_type": "code",
   "execution_count": 98,
   "id": "abe804f5-731a-4349-8e12-79de47cc544a",
   "metadata": {
    "execution": {
     "shell.execute_reply.end": "2024-01-05T16:09:17.570452Z",
     "shell.execute_reply.started": "2024-01-05T16:09:16.956524Z",
     "to_execute": "2024-01-05T16:09:16.811Z"
    },
    "libroFormatter": "formatter-string"
   },
   "outputs": [],
   "source": [
    "torch.cuda.empty_cache()"
   ]
  },
  {
   "cell_type": "code",
   "execution_count": 2,
   "id": "fea21c2f-158a-404f-aa06-25b7e35dcb08",
   "metadata": {
    "execution": {
     "shell.execute_reply.end": "2024-01-05T17:06:05.202530Z",
     "shell.execute_reply.started": "2024-01-05T17:05:41.621022Z",
     "to_execute": "2024-01-05T17:05:41.530Z"
    },
    "libroFormatter": "formatter-string"
   },
   "outputs": [],
   "source": [
    "class ARGS:\n",
    "    def __init__(self):\n",
    "        self.subject = 'S1'\n",
    "        self.gpt = 'perceived'\n",
    "        self.sessions = [2, 3, 4, 5, 6, 7, 8, 9, 10, 11, 12, 14, 15, 18, 20]\n",
    "\n",
    "args = ARGS()\n",
    "\n",
    "# training stories\n",
    "stories = []\n",
    "with open(os.path.join(config.DATA_TRAIN_DIR, \"sess_to_story.json\"), \"r\") as f:\n",
    "    sess_to_story = json.load(f) \n",
    "for sess in args.sessions:\n",
    "    stories.extend(sess_to_story[str(sess)])\n",
    "\n",
    "stories = stories[:10]\n",
    "\n",
    "## load cached llm act\n",
    "cache_dir = '/ossfs/workspace/act_cache_ffn_gate'\n",
    "llama = LLAMA(None, None, cache_dir)\n",
    "\n",
    "word_seqs = get_story_wordseqs(stories)\n",
    "word_vecs = {}\n",
    "for story in stories:\n",
    "    words = word_seqs[story].data\n",
    "    layer = 20\n",
    "    act_name = 'ffn_gate'\n",
    "    embs = llama.get_llm_act(story, words, config.GPT_WORDS, act_name, layer)\n",
    "    word_vecs[story] = embs"
   ]
  },
  {
   "cell_type": "code",
   "execution_count": 3,
   "id": "09a10efc-b197-4db4-bb98-94fae9fa354a",
   "metadata": {
    "execution": {
     "shell.execute_reply.end": "2024-01-05T17:06:52.748410Z",
     "shell.execute_reply.started": "2024-01-05T17:06:14.250147Z",
     "to_execute": "2024-01-05T17:06:14.162Z"
    },
    "libroFormatter": "formatter-string"
   },
   "outputs": [],
   "source": [
    "word_mat = np.vstack([word_vecs[story] for story in stories])\n",
    "word_mean, word_std = word_mat.mean(0), word_mat.std(0)\n",
    "\n",
    "ds_vecs = {story : lanczosinterp2D(word_vecs[story], word_seqs[story].data_times, word_seqs[story].tr_times) \n",
    "           for story in stories}\n",
    "\n",
    "ds_mat = np.vstack([ds_vecs[story][5+config.TRIM:-config.TRIM] for story in stories])\n",
    "r_mean, r_std = ds_mat.mean(0), ds_mat.std(0)\n",
    "r_std[r_std == 0] = 1\n",
    "ds_mat = np.nan_to_num(np.dot((ds_mat - r_mean), np.linalg.inv(np.diag(r_std))))\n",
    "del_mat = make_delayed(ds_mat, config.STIM_DELAYS)"
   ]
  },
  {
   "cell_type": "code",
   "execution_count": 4,
   "id": "d39f4d2e-b14c-45c7-a1b8-dc0bbde0a007",
   "metadata": {
    "execution": {
     "shell.execute_reply.end": "2024-01-05T17:07:21.419473Z",
     "shell.execute_reply.started": "2024-01-05T17:07:20.910771Z",
     "to_execute": "2024-01-05T17:07:20.816Z"
    },
    "libroFormatter": "formatter-string"
   },
   "outputs": [
    {
     "data": {
      "text/plain": [
       "(3737, 44032)"
      ]
     },
     "execution_count": 4,
     "metadata": {},
     "output_type": "execute_result"
    }
   ],
   "source": [
    "del_mat.shape"
   ]
  },
  {
   "cell_type": "code",
   "execution_count": 5,
   "id": "b0b11c36-be8e-4b3b-9d85-dacd24577003",
   "metadata": {
    "execution": {
     "shell.execute_reply.end": "2024-01-05T17:09:10.973617Z",
     "shell.execute_reply.started": "2024-01-05T17:07:25.670771Z",
     "to_execute": "2024-01-05T17:07:25.583Z"
    },
    "libroFormatter": "formatter-string"
   },
   "outputs": [],
   "source": [
    "rresp = get_resp(args.subject, stories, stack = True)"
   ]
  },
  {
   "cell_type": "code",
   "execution_count": 6,
   "id": "05cb0e3c-6bf1-49c5-bccb-d16015518805",
   "metadata": {
    "execution": {
     "shell.execute_reply.end": "2024-01-05T17:09:36.867579Z",
     "shell.execute_reply.started": "2024-01-05T17:09:36.844887Z",
     "to_execute": "2024-01-05T17:09:36.751Z"
    },
    "libroFormatter": "formatter-string"
   },
   "outputs": [],
   "source": [
    "rstim, tr_stats, word_stats = del_mat, (r_mean, r_std), (word_mean, word_std)\n",
    "\n",
    "nchunks = int(np.ceil(rresp.shape[0] / 5 / config.CHUNKLEN))"
   ]
  },
  {
   "cell_type": "code",
   "execution_count": 7,
   "id": "b3c71931-5248-4261-ae98-c42271e194e7",
   "metadata": {
    "execution": {
     "shell.execute_reply.end": "2024-01-05T17:09:46.209443Z",
     "shell.execute_reply.started": "2024-01-05T17:09:43.558084Z",
     "to_execute": "2024-01-05T17:09:43.472Z"
    },
    "libroFormatter": "formatter-string"
   },
   "outputs": [],
   "source": [
    "rstim = torch.tensor(rstim).cuda()\n",
    "rresp = torch.tensor(rresp).cuda()"
   ]
  },
  {
   "cell_type": "code",
   "execution_count": 8,
   "id": "84697611-aa59-4f59-abb4-94977a94eace",
   "metadata": {
    "execution": {
     "shell.execute_reply.end": "2024-01-05T17:09:49.701709Z",
     "shell.execute_reply.started": "2024-01-05T17:09:49.134494Z",
     "to_execute": "2024-01-05T17:09:49.047Z"
    },
    "libroFormatter": "formatter-string"
   },
   "outputs": [],
   "source": [
    "Rstim = rstim\n",
    "Rresp = rresp\n",
    "chunklen = config.CHUNKLEN\n",
    "nchunks = nchunks\n",
    "singcutoff=1e-10\n",
    "nboots = 1\n",
    "nresp, nvox = Rresp.shape\n",
    "bestalphas = torch.zeros((nboots, nvox))\n",
    "valinds = []\n",
    "Rcmats = []"
   ]
  },
  {
   "cell_type": "code",
   "execution_count": 9,
   "id": "d1b04d92-e96a-4d00-b8ca-de26cd51f257",
   "metadata": {
    "execution": {
     "shell.execute_reply.end": "2024-01-05T17:10:52.959202Z",
     "shell.execute_reply.started": "2024-01-05T17:10:01.652097Z",
     "to_execute": "2024-01-05T17:10:01.563Z"
    },
    "libroFormatter": "formatter-string"
   },
   "outputs": [
    {
     "name": "stderr",
     "output_type": "stream",
     "text": [
      "2024-01-06 01:10:01,678 - ridge_corr - INFO - Selecting held-out test set..\n",
      "2024-01-06 01:10:01,712 - ridge_corr - INFO - Doing SVD...\n",
      "2024-01-06 01:10:03,701 - ridge_corr - INFO - Dropped 1 tiny singular values.. (U is now torch.Size([2977, 2976]))\n",
      "2024-01-06 01:10:03,702 - ridge_corr - INFO - Training stimulus has Frobenius norm: 3147.409\n",
      "2024-01-06 01:10:03,864 - ridge_corr - INFO - Training: alpha=10.000, mean corr=0.00000, max corr=0.00000, over-under(0.20)=0\n",
      "2024-01-06 01:10:03,887 - ridge_corr - INFO - Training: alpha=16.681, mean corr=0.00000, max corr=0.00000, over-under(0.20)=0\n",
      "2024-01-06 01:10:03,910 - ridge_corr - INFO - Training: alpha=27.826, mean corr=0.00000, max corr=0.00000, over-under(0.20)=0\n",
      "2024-01-06 01:10:03,933 - ridge_corr - INFO - Training: alpha=46.416, mean corr=0.00000, max corr=0.00000, over-under(0.20)=0\n",
      "2024-01-06 01:10:03,956 - ridge_corr - INFO - Training: alpha=77.426, mean corr=0.00000, max corr=0.04527, over-under(0.20)=0\n",
      "2024-01-06 01:10:03,978 - ridge_corr - INFO - Training: alpha=129.155, mean corr=0.00004, max corr=0.11959, over-under(0.20)=0\n",
      "2024-01-06 01:10:04,001 - ridge_corr - INFO - Training: alpha=215.443, mean corr=0.00053, max corr=0.16266, over-under(0.20)=0\n",
      "2024-01-06 01:10:04,023 - ridge_corr - INFO - Training: alpha=359.381, mean corr=0.00212, max corr=0.18367, over-under(0.20)=0\n",
      "2024-01-06 01:10:04,046 - ridge_corr - INFO - Training: alpha=599.484, mean corr=0.00407, max corr=0.18476, over-under(0.20)=0\n",
      "2024-01-06 01:10:04,069 - ridge_corr - INFO - Training: alpha=1000.000, mean corr=0.00474, max corr=0.17189, over-under(0.20)=0\n",
      "2024-01-06 01:10:04,070 - counter - INFO - 1/15 items complete (2.39 seconds/item, 00:00:33 remaining)\n",
      "2024-01-06 01:10:04,070 - ridge_corr - INFO - Selecting held-out test set..\n",
      "2024-01-06 01:10:04,077 - ridge_corr - INFO - Doing SVD...\n",
      "2024-01-06 01:10:05,816 - ridge_corr - INFO - Dropped 0 tiny singular values.. (U is now torch.Size([2977, 2977]))\n",
      "2024-01-06 01:10:05,817 - ridge_corr - INFO - Training stimulus has Frobenius norm: 3178.270\n",
      "2024-01-06 01:10:05,934 - ridge_corr - INFO - Training: alpha=10.000, mean corr=0.00000, max corr=0.00000, over-under(0.20)=0\n",
      "2024-01-06 01:10:05,957 - ridge_corr - INFO - Training: alpha=16.681, mean corr=0.00000, max corr=0.00000, over-under(0.20)=0\n",
      "2024-01-06 01:10:05,980 - ridge_corr - INFO - Training: alpha=27.826, mean corr=0.00000, max corr=0.00000, over-under(0.20)=0\n",
      "2024-01-06 01:10:06,003 - ridge_corr - INFO - Training: alpha=46.416, mean corr=0.00000, max corr=0.00000, over-under(0.20)=0\n",
      "2024-01-06 01:10:06,026 - ridge_corr - INFO - Training: alpha=77.426, mean corr=0.00000, max corr=0.03306, over-under(0.20)=0\n",
      "2024-01-06 01:10:06,050 - ridge_corr - INFO - Training: alpha=129.155, mean corr=0.00002, max corr=0.12379, over-under(0.20)=0\n",
      "2024-01-06 01:10:06,073 - ridge_corr - INFO - Training: alpha=215.443, mean corr=0.00022, max corr=0.17286, over-under(0.20)=0\n",
      "2024-01-06 01:10:06,096 - ridge_corr - INFO - Training: alpha=359.381, mean corr=0.00112, max corr=0.18868, over-under(0.20)=0\n",
      "2024-01-06 01:10:06,119 - ridge_corr - INFO - Training: alpha=599.484, mean corr=0.00286, max corr=0.18712, over-under(0.20)=0\n",
      "2024-01-06 01:10:06,141 - ridge_corr - INFO - Training: alpha=1000.000, mean corr=0.00396, max corr=0.17498, over-under(0.20)=0\n",
      "2024-01-06 01:10:06,142 - counter - INFO - 2/15 items complete (2.23 seconds/item, 00:00:29 remaining)\n",
      "2024-01-06 01:10:06,142 - ridge_corr - INFO - Selecting held-out test set..\n",
      "2024-01-06 01:10:06,147 - ridge_corr - INFO - Doing SVD...\n",
      "2024-01-06 01:10:07,879 - ridge_corr - INFO - Dropped 0 tiny singular values.. (U is now torch.Size([2977, 2977]))\n",
      "2024-01-06 01:10:07,879 - ridge_corr - INFO - Training stimulus has Frobenius norm: 3152.967\n",
      "2024-01-06 01:10:07,997 - ridge_corr - INFO - Training: alpha=10.000, mean corr=0.00000, max corr=0.00000, over-under(0.20)=0\n",
      "2024-01-06 01:10:08,021 - ridge_corr - INFO - Training: alpha=16.681, mean corr=0.00000, max corr=0.00000, over-under(0.20)=0\n",
      "2024-01-06 01:10:08,045 - ridge_corr - INFO - Training: alpha=27.826, mean corr=0.00000, max corr=0.00000, over-under(0.20)=0\n",
      "2024-01-06 01:10:08,069 - ridge_corr - INFO - Training: alpha=46.416, mean corr=0.00000, max corr=0.00000, over-under(0.20)=0\n",
      "2024-01-06 01:10:08,092 - ridge_corr - INFO - Training: alpha=77.426, mean corr=0.00000, max corr=0.02342, over-under(0.20)=0\n",
      "2024-01-06 01:10:08,116 - ridge_corr - INFO - Training: alpha=129.155, mean corr=0.00003, max corr=0.11780, over-under(0.20)=0\n",
      "2024-01-06 01:10:08,139 - ridge_corr - INFO - Training: alpha=215.443, mean corr=0.00022, max corr=0.17374, over-under(0.20)=0\n",
      "2024-01-06 01:10:08,162 - ridge_corr - INFO - Training: alpha=359.381, mean corr=0.00088, max corr=0.19204, over-under(0.20)=0\n",
      "2024-01-06 01:10:08,184 - ridge_corr - INFO - Training: alpha=599.484, mean corr=0.00222, max corr=0.18993, over-under(0.20)=0\n",
      "2024-01-06 01:10:08,207 - ridge_corr - INFO - Training: alpha=1000.000, mean corr=0.00311, max corr=0.17494, over-under(0.20)=0\n",
      "2024-01-06 01:10:08,208 - counter - INFO - 3/15 items complete (2.18 seconds/item, 00:00:26 remaining)\n",
      "2024-01-06 01:10:08,208 - ridge_corr - INFO - Selecting held-out test set..\n",
      "2024-01-06 01:10:08,213 - ridge_corr - INFO - Doing SVD...\n",
      "2024-01-06 01:10:09,953 - ridge_corr - INFO - Dropped 1 tiny singular values.. (U is now torch.Size([2977, 2976]))\n",
      "2024-01-06 01:10:09,954 - ridge_corr - INFO - Training stimulus has Frobenius norm: 3168.768\n",
      "2024-01-06 01:10:10,072 - ridge_corr - INFO - Training: alpha=10.000, mean corr=0.00000, max corr=0.00000, over-under(0.20)=0\n",
      "2024-01-06 01:10:10,095 - ridge_corr - INFO - Training: alpha=16.681, mean corr=0.00000, max corr=0.00000, over-under(0.20)=0\n",
      "2024-01-06 01:10:10,118 - ridge_corr - INFO - Training: alpha=27.826, mean corr=0.00000, max corr=0.00000, over-under(0.20)=0\n",
      "2024-01-06 01:10:10,141 - ridge_corr - INFO - Training: alpha=46.416, mean corr=0.00000, max corr=0.00000, over-under(0.20)=0\n",
      "2024-01-06 01:10:10,164 - ridge_corr - INFO - Training: alpha=77.426, mean corr=0.00000, max corr=0.04905, over-under(0.20)=0\n",
      "2024-01-06 01:10:10,186 - ridge_corr - INFO - Training: alpha=129.155, mean corr=0.00005, max corr=0.13295, over-under(0.20)=0\n",
      "2024-01-06 01:10:10,209 - ridge_corr - INFO - Training: alpha=215.443, mean corr=0.00044, max corr=0.17793, over-under(0.20)=0\n",
      "2024-01-06 01:10:10,232 - ridge_corr - INFO - Training: alpha=359.381, mean corr=0.00179, max corr=0.19189, over-under(0.20)=0\n",
      "2024-01-06 01:10:10,254 - ridge_corr - INFO - Training: alpha=599.484, mean corr=0.00370, max corr=0.19552, over-under(0.20)=0\n",
      "2024-01-06 01:10:10,277 - ridge_corr - INFO - Training: alpha=1000.000, mean corr=0.00449, max corr=0.18874, over-under(0.20)=0\n",
      "2024-01-06 01:10:10,277 - counter - INFO - 4/15 items complete (2.15 seconds/item, 00:00:23 remaining)\n",
      "2024-01-06 01:10:10,277 - ridge_corr - INFO - Selecting held-out test set..\n",
      "2024-01-06 01:10:10,283 - ridge_corr - INFO - Doing SVD...\n",
      "2024-01-06 01:10:12,025 - ridge_corr - INFO - Dropped 0 tiny singular values.. (U is now torch.Size([2977, 2977]))\n",
      "2024-01-06 01:10:12,026 - ridge_corr - INFO - Training stimulus has Frobenius norm: 3231.201\n",
      "2024-01-06 01:10:12,143 - ridge_corr - INFO - Training: alpha=10.000, mean corr=0.00000, max corr=0.00000, over-under(0.20)=0\n",
      "2024-01-06 01:10:12,167 - ridge_corr - INFO - Training: alpha=16.681, mean corr=0.00000, max corr=0.00000, over-under(0.20)=0\n",
      "2024-01-06 01:10:12,190 - ridge_corr - INFO - Training: alpha=27.826, mean corr=0.00000, max corr=0.00000, over-under(0.20)=0\n",
      "2024-01-06 01:10:12,213 - ridge_corr - INFO - Training: alpha=46.416, mean corr=0.00000, max corr=0.00000, over-under(0.20)=0\n",
      "2024-01-06 01:10:12,236 - ridge_corr - INFO - Training: alpha=77.426, mean corr=0.00000, max corr=0.07464, over-under(0.20)=0\n",
      "2024-01-06 01:10:12,259 - ridge_corr - INFO - Training: alpha=129.155, mean corr=0.00008, max corr=0.15652, over-under(0.20)=0\n",
      "2024-01-06 01:10:12,282 - ridge_corr - INFO - Training: alpha=215.443, mean corr=0.00047, max corr=0.19449, over-under(0.20)=0\n",
      "2024-01-06 01:10:12,305 - ridge_corr - INFO - Training: alpha=359.381, mean corr=0.00158, max corr=0.20041, over-under(0.20)=1\n",
      "2024-01-06 01:10:12,327 - ridge_corr - INFO - Training: alpha=599.484, mean corr=0.00323, max corr=0.19169, over-under(0.20)=0\n",
      "2024-01-06 01:10:12,350 - ridge_corr - INFO - Training: alpha=1000.000, mean corr=0.00401, max corr=0.17558, over-under(0.20)=0\n",
      "2024-01-06 01:10:12,350 - counter - INFO - 5/15 items complete (2.13 seconds/item, 00:00:21 remaining)\n",
      "2024-01-06 01:10:12,351 - ridge_corr - INFO - Selecting held-out test set..\n",
      "2024-01-06 01:10:12,356 - ridge_corr - INFO - Doing SVD...\n",
      "2024-01-06 01:10:14,085 - ridge_corr - INFO - Dropped 1 tiny singular values.. (U is now torch.Size([2977, 2976]))\n",
      "2024-01-06 01:10:14,085 - ridge_corr - INFO - Training stimulus has Frobenius norm: 3168.353\n",
      "2024-01-06 01:10:14,203 - ridge_corr - INFO - Training: alpha=10.000, mean corr=0.00000, max corr=0.00000, over-under(0.20)=0\n",
      "2024-01-06 01:10:14,227 - ridge_corr - INFO - Training: alpha=16.681, mean corr=0.00000, max corr=0.00000, over-under(0.20)=0\n",
      "2024-01-06 01:10:14,250 - ridge_corr - INFO - Training: alpha=27.826, mean corr=0.00000, max corr=0.00000, over-under(0.20)=0\n",
      "2024-01-06 01:10:14,273 - ridge_corr - INFO - Training: alpha=46.416, mean corr=0.00000, max corr=0.00000, over-under(0.20)=0\n",
      "2024-01-06 01:10:14,296 - ridge_corr - INFO - Training: alpha=77.426, mean corr=0.00000, max corr=0.00000, over-under(0.20)=0\n",
      "2024-01-06 01:10:14,319 - ridge_corr - INFO - Training: alpha=129.155, mean corr=0.00003, max corr=0.09207, over-under(0.20)=0\n",
      "2024-01-06 01:10:14,342 - ridge_corr - INFO - Training: alpha=215.443, mean corr=0.00031, max corr=0.17270, over-under(0.20)=0\n",
      "2024-01-06 01:10:14,364 - ridge_corr - INFO - Training: alpha=359.381, mean corr=0.00142, max corr=0.21169, over-under(0.20)=1\n",
      "2024-01-06 01:10:14,387 - ridge_corr - INFO - Training: alpha=599.484, mean corr=0.00339, max corr=0.21377, over-under(0.20)=2\n",
      "2024-01-06 01:10:14,409 - ridge_corr - INFO - Training: alpha=1000.000, mean corr=0.00456, max corr=0.19341, over-under(0.20)=0\n",
      "2024-01-06 01:10:14,410 - counter - INFO - 6/15 items complete (2.12 seconds/item, 00:00:19 remaining)\n",
      "2024-01-06 01:10:14,410 - ridge_corr - INFO - Selecting held-out test set..\n",
      "2024-01-06 01:10:14,416 - ridge_corr - INFO - Doing SVD...\n",
      "2024-01-06 01:10:16,160 - ridge_corr - INFO - Dropped 0 tiny singular values.. (U is now torch.Size([2977, 2977]))\n",
      "2024-01-06 01:10:16,161 - ridge_corr - INFO - Training stimulus has Frobenius norm: 3183.970\n",
      "2024-01-06 01:10:16,278 - ridge_corr - INFO - Training: alpha=10.000, mean corr=0.00000, max corr=0.00000, over-under(0.20)=0\n",
      "2024-01-06 01:10:16,302 - ridge_corr - INFO - Training: alpha=16.681, mean corr=0.00000, max corr=0.00000, over-under(0.20)=0\n",
      "2024-01-06 01:10:16,326 - ridge_corr - INFO - Training: alpha=27.826, mean corr=0.00000, max corr=0.00000, over-under(0.20)=0\n",
      "2024-01-06 01:10:16,349 - ridge_corr - INFO - Training: alpha=46.416, mean corr=0.00000, max corr=0.00000, over-under(0.20)=0\n",
      "2024-01-06 01:10:16,372 - ridge_corr - INFO - Training: alpha=77.426, mean corr=0.00000, max corr=0.02213, over-under(0.20)=0\n",
      "2024-01-06 01:10:16,395 - ridge_corr - INFO - Training: alpha=129.155, mean corr=0.00005, max corr=0.13689, over-under(0.20)=0\n",
      "2024-01-06 01:10:16,418 - ridge_corr - INFO - Training: alpha=215.443, mean corr=0.00036, max corr=0.20566, over-under(0.20)=1\n",
      "2024-01-06 01:10:16,441 - ridge_corr - INFO - Training: alpha=359.381, mean corr=0.00135, max corr=0.22849, over-under(0.20)=3\n",
      "2024-01-06 01:10:16,464 - ridge_corr - INFO - Training: alpha=599.484, mean corr=0.00287, max corr=0.22516, over-under(0.20)=2\n",
      "2024-01-06 01:10:16,487 - ridge_corr - INFO - Training: alpha=1000.000, mean corr=0.00360, max corr=0.20534, over-under(0.20)=2\n",
      "2024-01-06 01:10:16,487 - counter - INFO - 7/15 items complete (2.12 seconds/item, 00:00:16 remaining)\n",
      "2024-01-06 01:10:16,487 - ridge_corr - INFO - Selecting held-out test set..\n",
      "2024-01-06 01:10:16,493 - ridge_corr - INFO - Doing SVD...\n",
      "2024-01-06 01:10:18,229 - ridge_corr - INFO - Dropped 1 tiny singular values.. (U is now torch.Size([2977, 2976]))\n",
      "2024-01-06 01:10:18,230 - ridge_corr - INFO - Training stimulus has Frobenius norm: 3129.042\n",
      "2024-01-06 01:10:18,348 - ridge_corr - INFO - Training: alpha=10.000, mean corr=0.00000, max corr=0.00000, over-under(0.20)=0\n",
      "2024-01-06 01:10:18,371 - ridge_corr - INFO - Training: alpha=16.681, mean corr=0.00000, max corr=0.00000, over-under(0.20)=0\n",
      "2024-01-06 01:10:18,394 - ridge_corr - INFO - Training: alpha=27.826, mean corr=0.00000, max corr=0.00000, over-under(0.20)=0\n",
      "2024-01-06 01:10:18,417 - ridge_corr - INFO - Training: alpha=46.416, mean corr=0.00000, max corr=0.00000, over-under(0.20)=0\n",
      "2024-01-06 01:10:18,440 - ridge_corr - INFO - Training: alpha=77.426, mean corr=0.00000, max corr=0.05228, over-under(0.20)=0\n",
      "2024-01-06 01:10:18,463 - ridge_corr - INFO - Training: alpha=129.155, mean corr=0.00002, max corr=0.14913, over-under(0.20)=0\n",
      "2024-01-06 01:10:18,485 - ridge_corr - INFO - Training: alpha=215.443, mean corr=0.00025, max corr=0.20148, over-under(0.20)=1\n",
      "2024-01-06 01:10:18,508 - ridge_corr - INFO - Training: alpha=359.381, mean corr=0.00114, max corr=0.21888, over-under(0.20)=1\n",
      "2024-01-06 01:10:18,531 - ridge_corr - INFO - Training: alpha=599.484, mean corr=0.00261, max corr=0.21513, over-under(0.20)=1\n",
      "2024-01-06 01:10:18,554 - ridge_corr - INFO - Training: alpha=1000.000, mean corr=0.00352, max corr=0.19683, over-under(0.20)=0\n",
      "2024-01-06 01:10:18,554 - counter - INFO - 8/15 items complete (2.11 seconds/item, 00:00:14 remaining)\n",
      "2024-01-06 01:10:18,554 - ridge_corr - INFO - Selecting held-out test set..\n",
      "2024-01-06 01:10:18,560 - ridge_corr - INFO - Doing SVD...\n",
      "2024-01-06 01:10:20,297 - ridge_corr - INFO - Dropped 0 tiny singular values.. (U is now torch.Size([2977, 2977]))\n",
      "2024-01-06 01:10:20,297 - ridge_corr - INFO - Training stimulus has Frobenius norm: 3048.105\n",
      "2024-01-06 01:10:20,413 - ridge_corr - INFO - Training: alpha=10.000, mean corr=0.00000, max corr=0.00000, over-under(0.20)=0\n",
      "2024-01-06 01:10:20,437 - ridge_corr - INFO - Training: alpha=16.681, mean corr=0.00000, max corr=0.00000, over-under(0.20)=0\n",
      "2024-01-06 01:10:20,461 - ridge_corr - INFO - Training: alpha=27.826, mean corr=0.00000, max corr=0.00000, over-under(0.20)=0\n",
      "2024-01-06 01:10:20,484 - ridge_corr - INFO - Training: alpha=46.416, mean corr=0.00000, max corr=0.00000, over-under(0.20)=0\n",
      "2024-01-06 01:10:20,508 - ridge_corr - INFO - Training: alpha=77.426, mean corr=0.00000, max corr=0.02823, over-under(0.20)=0\n",
      "2024-01-06 01:10:20,531 - ridge_corr - INFO - Training: alpha=129.155, mean corr=0.00003, max corr=0.10042, over-under(0.20)=0\n",
      "2024-01-06 01:10:20,554 - ridge_corr - INFO - Training: alpha=215.443, mean corr=0.00028, max corr=0.14034, over-under(0.20)=0\n",
      "2024-01-06 01:10:20,577 - ridge_corr - INFO - Training: alpha=359.381, mean corr=0.00135, max corr=0.15735, over-under(0.20)=0\n",
      "2024-01-06 01:10:20,600 - ridge_corr - INFO - Training: alpha=599.484, mean corr=0.00298, max corr=0.15665, over-under(0.20)=0\n",
      "2024-01-06 01:10:20,623 - ridge_corr - INFO - Training: alpha=1000.000, mean corr=0.00377, max corr=0.15094, over-under(0.20)=0\n",
      "2024-01-06 01:10:20,623 - counter - INFO - 9/15 items complete (2.11 seconds/item, 00:00:12 remaining)\n",
      "2024-01-06 01:10:20,624 - ridge_corr - INFO - Selecting held-out test set..\n",
      "2024-01-06 01:10:20,629 - ridge_corr - INFO - Doing SVD...\n",
      "2024-01-06 01:10:22,374 - ridge_corr - INFO - Dropped 1 tiny singular values.. (U is now torch.Size([2977, 2976]))\n",
      "2024-01-06 01:10:22,374 - ridge_corr - INFO - Training stimulus has Frobenius norm: 3098.360\n",
      "2024-01-06 01:10:22,492 - ridge_corr - INFO - Training: alpha=10.000, mean corr=0.00000, max corr=0.00000, over-under(0.20)=0\n",
      "2024-01-06 01:10:22,516 - ridge_corr - INFO - Training: alpha=16.681, mean corr=0.00000, max corr=0.00000, over-under(0.20)=0\n",
      "2024-01-06 01:10:22,539 - ridge_corr - INFO - Training: alpha=27.826, mean corr=0.00000, max corr=0.00000, over-under(0.20)=0\n",
      "2024-01-06 01:10:22,561 - ridge_corr - INFO - Training: alpha=46.416, mean corr=0.00000, max corr=0.00000, over-under(0.20)=0\n",
      "2024-01-06 01:10:22,585 - ridge_corr - INFO - Training: alpha=77.426, mean corr=0.00001, max corr=0.09667, over-under(0.20)=0\n",
      "2024-01-06 01:10:22,608 - ridge_corr - INFO - Training: alpha=129.155, mean corr=0.00008, max corr=0.17899, over-under(0.20)=0\n",
      "2024-01-06 01:10:22,630 - ridge_corr - INFO - Training: alpha=215.443, mean corr=0.00043, max corr=0.22176, over-under(0.20)=5\n",
      "2024-01-06 01:10:22,653 - ridge_corr - INFO - Training: alpha=359.381, mean corr=0.00157, max corr=0.23268, over-under(0.20)=8\n",
      "2024-01-06 01:10:22,676 - ridge_corr - INFO - Training: alpha=599.484, mean corr=0.00325, max corr=0.22943, over-under(0.20)=7\n",
      "2024-01-06 01:10:22,699 - ridge_corr - INFO - Training: alpha=1000.000, mean corr=0.00405, max corr=0.21534, over-under(0.20)=4\n",
      "2024-01-06 01:10:22,699 - counter - INFO - 10/15 items complete (2.10 seconds/item, 00:00:10 remaining)\n",
      "2024-01-06 01:10:22,700 - ridge_corr - INFO - Selecting held-out test set..\n",
      "2024-01-06 01:10:22,705 - ridge_corr - INFO - Doing SVD...\n",
      "2024-01-06 01:10:24,463 - ridge_corr - INFO - Dropped 1 tiny singular values.. (U is now torch.Size([2977, 2976]))\n",
      "2024-01-06 01:10:24,464 - ridge_corr - INFO - Training stimulus has Frobenius norm: 3192.394\n",
      "2024-01-06 01:10:24,581 - ridge_corr - INFO - Training: alpha=10.000, mean corr=0.00000, max corr=0.00000, over-under(0.20)=0\n",
      "2024-01-06 01:10:24,605 - ridge_corr - INFO - Training: alpha=16.681, mean corr=0.00000, max corr=0.00000, over-under(0.20)=0\n",
      "2024-01-06 01:10:24,628 - ridge_corr - INFO - Training: alpha=27.826, mean corr=0.00000, max corr=0.00000, over-under(0.20)=0\n",
      "2024-01-06 01:10:24,651 - ridge_corr - INFO - Training: alpha=46.416, mean corr=0.00000, max corr=0.00000, over-under(0.20)=0\n",
      "2024-01-06 01:10:24,674 - ridge_corr - INFO - Training: alpha=77.426, mean corr=0.00000, max corr=0.06216, over-under(0.20)=0\n",
      "2024-01-06 01:10:24,696 - ridge_corr - INFO - Training: alpha=129.155, mean corr=0.00005, max corr=0.15313, over-under(0.20)=0\n",
      "2024-01-06 01:10:24,719 - ridge_corr - INFO - Training: alpha=215.443, mean corr=0.00032, max corr=0.20612, over-under(0.20)=2\n",
      "2024-01-06 01:10:24,742 - ridge_corr - INFO - Training: alpha=359.381, mean corr=0.00126, max corr=0.22571, over-under(0.20)=3\n",
      "2024-01-06 01:10:24,765 - ridge_corr - INFO - Training: alpha=599.484, mean corr=0.00279, max corr=0.22397, over-under(0.20)=3\n",
      "2024-01-06 01:10:24,787 - ridge_corr - INFO - Training: alpha=1000.000, mean corr=0.00366, max corr=0.20740, over-under(0.20)=2\n",
      "2024-01-06 01:10:24,788 - counter - INFO - 11/15 items complete (2.10 seconds/item, 00:00:08 remaining)\n",
      "2024-01-06 01:10:24,788 - ridge_corr - INFO - Selecting held-out test set..\n",
      "2024-01-06 01:10:24,794 - ridge_corr - INFO - Doing SVD...\n",
      "2024-01-06 01:10:26,535 - ridge_corr - INFO - Dropped 1 tiny singular values.. (U is now torch.Size([2977, 2976]))\n",
      "2024-01-06 01:10:26,536 - ridge_corr - INFO - Training stimulus has Frobenius norm: 3035.077\n",
      "2024-01-06 01:10:26,654 - ridge_corr - INFO - Training: alpha=10.000, mean corr=0.00000, max corr=0.00000, over-under(0.20)=0\n",
      "2024-01-06 01:10:26,677 - ridge_corr - INFO - Training: alpha=16.681, mean corr=0.00000, max corr=0.00000, over-under(0.20)=0\n",
      "2024-01-06 01:10:26,700 - ridge_corr - INFO - Training: alpha=27.826, mean corr=0.00000, max corr=0.00000, over-under(0.20)=0\n",
      "2024-01-06 01:10:26,723 - ridge_corr - INFO - Training: alpha=46.416, mean corr=0.00000, max corr=0.00000, over-under(0.20)=0\n",
      "2024-01-06 01:10:26,745 - ridge_corr - INFO - Training: alpha=77.426, mean corr=0.00000, max corr=0.00000, over-under(0.20)=0\n",
      "2024-01-06 01:10:26,768 - ridge_corr - INFO - Training: alpha=129.155, mean corr=0.00002, max corr=0.07186, over-under(0.20)=0\n",
      "2024-01-06 01:10:26,791 - ridge_corr - INFO - Training: alpha=215.443, mean corr=0.00030, max corr=0.13884, over-under(0.20)=0\n",
      "2024-01-06 01:10:26,814 - ridge_corr - INFO - Training: alpha=359.381, mean corr=0.00149, max corr=0.17357, over-under(0.20)=0\n",
      "2024-01-06 01:10:26,837 - ridge_corr - INFO - Training: alpha=599.484, mean corr=0.00341, max corr=0.18155, over-under(0.20)=0\n",
      "2024-01-06 01:10:26,859 - ridge_corr - INFO - Training: alpha=1000.000, mean corr=0.00446, max corr=0.17533, over-under(0.20)=0\n",
      "2024-01-06 01:10:26,860 - counter - INFO - 12/15 items complete (2.10 seconds/item, 00:00:06 remaining)\n",
      "2024-01-06 01:10:26,860 - ridge_corr - INFO - Selecting held-out test set..\n",
      "2024-01-06 01:10:26,865 - ridge_corr - INFO - Doing SVD...\n",
      "2024-01-06 01:10:28,600 - ridge_corr - INFO - Dropped 0 tiny singular values.. (U is now torch.Size([2977, 2977]))\n",
      "2024-01-06 01:10:28,601 - ridge_corr - INFO - Training stimulus has Frobenius norm: 3186.507\n",
      "2024-01-06 01:10:28,719 - ridge_corr - INFO - Training: alpha=10.000, mean corr=0.00000, max corr=0.00000, over-under(0.20)=0\n",
      "2024-01-06 01:10:28,743 - ridge_corr - INFO - Training: alpha=16.681, mean corr=0.00000, max corr=0.00000, over-under(0.20)=0\n",
      "2024-01-06 01:10:28,766 - ridge_corr - INFO - Training: alpha=27.826, mean corr=0.00000, max corr=0.00000, over-under(0.20)=0\n",
      "2024-01-06 01:10:28,789 - ridge_corr - INFO - Training: alpha=46.416, mean corr=0.00000, max corr=0.00000, over-under(0.20)=0\n",
      "2024-01-06 01:10:28,813 - ridge_corr - INFO - Training: alpha=77.426, mean corr=0.00000, max corr=0.04831, over-under(0.20)=0\n",
      "2024-01-06 01:10:28,836 - ridge_corr - INFO - Training: alpha=129.155, mean corr=0.00006, max corr=0.15320, over-under(0.20)=0\n",
      "2024-01-06 01:10:28,859 - ridge_corr - INFO - Training: alpha=215.443, mean corr=0.00043, max corr=0.21341, over-under(0.20)=1\n",
      "2024-01-06 01:10:28,882 - ridge_corr - INFO - Training: alpha=359.381, mean corr=0.00163, max corr=0.23205, over-under(0.20)=1\n",
      "2024-01-06 01:10:28,905 - ridge_corr - INFO - Training: alpha=599.484, mean corr=0.00324, max corr=0.22515, over-under(0.20)=1\n",
      "2024-01-06 01:10:28,928 - ridge_corr - INFO - Training: alpha=1000.000, mean corr=0.00394, max corr=0.20372, over-under(0.20)=1\n",
      "2024-01-06 01:10:28,928 - counter - INFO - 13/15 items complete (2.10 seconds/item, 00:00:04 remaining)\n",
      "2024-01-06 01:10:28,928 - ridge_corr - INFO - Selecting held-out test set..\n",
      "2024-01-06 01:10:28,934 - ridge_corr - INFO - Doing SVD...\n",
      "2024-01-06 01:10:30,685 - ridge_corr - INFO - Dropped 1 tiny singular values.. (U is now torch.Size([2977, 2976]))\n",
      "2024-01-06 01:10:30,686 - ridge_corr - INFO - Training stimulus has Frobenius norm: 3023.406\n",
      "2024-01-06 01:10:30,804 - ridge_corr - INFO - Training: alpha=10.000, mean corr=0.00000, max corr=0.00000, over-under(0.20)=0\n",
      "2024-01-06 01:10:30,827 - ridge_corr - INFO - Training: alpha=16.681, mean corr=0.00000, max corr=0.00000, over-under(0.20)=0\n",
      "2024-01-06 01:10:30,850 - ridge_corr - INFO - Training: alpha=27.826, mean corr=0.00000, max corr=0.00000, over-under(0.20)=0\n",
      "2024-01-06 01:10:30,872 - ridge_corr - INFO - Training: alpha=46.416, mean corr=0.00000, max corr=0.00000, over-under(0.20)=0\n",
      "2024-01-06 01:10:30,895 - ridge_corr - INFO - Training: alpha=77.426, mean corr=0.00000, max corr=0.00000, over-under(0.20)=0\n",
      "2024-01-06 01:10:30,918 - ridge_corr - INFO - Training: alpha=129.155, mean corr=0.00001, max corr=0.07890, over-under(0.20)=0\n",
      "2024-01-06 01:10:30,941 - ridge_corr - INFO - Training: alpha=215.443, mean corr=0.00010, max corr=0.14198, over-under(0.20)=0\n",
      "2024-01-06 01:10:30,964 - ridge_corr - INFO - Training: alpha=359.381, mean corr=0.00059, max corr=0.16671, over-under(0.20)=0\n",
      "2024-01-06 01:10:30,986 - ridge_corr - INFO - Training: alpha=599.484, mean corr=0.00172, max corr=0.18288, over-under(0.20)=0\n",
      "2024-01-06 01:10:31,009 - ridge_corr - INFO - Training: alpha=1000.000, mean corr=0.00277, max corr=0.17770, over-under(0.20)=0\n",
      "2024-01-06 01:10:31,009 - counter - INFO - 14/15 items complete (2.10 seconds/item, 00:00:02 remaining)\n",
      "2024-01-06 01:10:31,010 - ridge_corr - INFO - Selecting held-out test set..\n",
      "2024-01-06 01:10:31,015 - ridge_corr - INFO - Doing SVD...\n",
      "2024-01-06 01:10:32,750 - ridge_corr - INFO - Dropped 1 tiny singular values.. (U is now torch.Size([2977, 2976]))\n",
      "2024-01-06 01:10:32,751 - ridge_corr - INFO - Training stimulus has Frobenius norm: 3203.046\n",
      "2024-01-06 01:10:32,870 - ridge_corr - INFO - Training: alpha=10.000, mean corr=0.00000, max corr=0.00000, over-under(0.20)=0\n",
      "2024-01-06 01:10:32,893 - ridge_corr - INFO - Training: alpha=16.681, mean corr=0.00000, max corr=0.00000, over-under(0.20)=0\n",
      "2024-01-06 01:10:32,916 - ridge_corr - INFO - Training: alpha=27.826, mean corr=0.00000, max corr=0.00000, over-under(0.20)=0\n",
      "2024-01-06 01:10:32,939 - ridge_corr - INFO - Training: alpha=46.416, mean corr=0.00000, max corr=0.00000, over-under(0.20)=0\n",
      "2024-01-06 01:10:32,961 - ridge_corr - INFO - Training: alpha=77.426, mean corr=0.00000, max corr=0.08217, over-under(0.20)=0\n",
      "2024-01-06 01:10:32,984 - ridge_corr - INFO - Training: alpha=129.155, mean corr=0.00006, max corr=0.18173, over-under(0.20)=0\n",
      "2024-01-06 01:10:33,007 - ridge_corr - INFO - Training: alpha=215.443, mean corr=0.00041, max corr=0.24399, over-under(0.20)=4\n",
      "2024-01-06 01:10:33,029 - ridge_corr - INFO - Training: alpha=359.381, mean corr=0.00164, max corr=0.27104, over-under(0.20)=8\n",
      "2024-01-06 01:10:33,052 - ridge_corr - INFO - Training: alpha=599.484, mean corr=0.00360, max corr=0.27081, over-under(0.20)=13\n",
      "2024-01-06 01:10:33,075 - ridge_corr - INFO - Training: alpha=1000.000, mean corr=0.00466, max corr=0.24846, over-under(0.20)=6\n",
      "2024-01-06 01:10:33,076 - counter - INFO - 15/15 items complete (2.09 seconds/item, 00:00:00 remaining)\n",
      "2024-01-06 01:10:36,861 - ridge_corr - INFO - Total training stimulus has Frobenius norm: 3518.543\n",
      "2024-01-06 01:10:37,097 - ridge_corr - INFO - Finding best alpha for each response..\n",
      "2024-01-06 01:10:37,124 - ridge_corr - INFO - Computing weights for each response using entire training set..\n"
     ]
    }
   ],
   "source": [
    "weights, alphas, bscorrs = bootstrap_ridge_torch(rstim, rresp, use_corr = False, alphas = config.ALPHAS,\n",
    "    nboots = 15, chunklen = config.CHUNKLEN, nchunks = nchunks)    "
   ]
  },
  {
   "cell_type": "code",
   "execution_count": 10,
   "id": "2705014a-9687-48e4-97fd-fcd906dd7895",
   "metadata": {
    "execution": {
     "shell.execute_reply.end": "2024-01-05T17:11:41.330892Z",
     "shell.execute_reply.started": "2024-01-05T17:11:41.215817Z",
     "to_execute": "2024-01-05T17:11:41.128Z"
    },
    "libroFormatter": "formatter-string"
   },
   "outputs": [],
   "source": [
    "bscorrs = bscorrs.mean(2).max(0)\n",
    "vox = np.sort(np.argsort(bscorrs)[-config.VOXELS:])"
   ]
  },
  {
   "cell_type": "code",
   "execution_count": 65,
   "id": "138e2b54-ed60-40a1-aa45-2af1c62c5c42",
   "metadata": {
    "execution": {
     "shell.execute_reply.end": "2024-01-05T12:55:46.374778Z",
     "shell.execute_reply.started": "2024-01-05T12:55:46.267925Z",
     "to_execute": "2024-01-05T12:55:46.243Z"
    },
    "libroFormatter": "formatter-string"
   },
   "outputs": [
    {
     "data": {
      "text/plain": [
       "array([35036, 30062, 26781, 37443, 26748, 12986, 21244, 27204, 60127,\n",
       "       21246, 35086, 34583, 40058, 24600, 27260, 35035, 34944, 40642,\n",
       "       24042, 39806, 37153, 24494, 40692, 49983, 37402, 62520, 29730,\n",
       "       26637, 31838, 39846, 40643, 34502, 15813, 34899, 29106, 39974,\n",
       "       37401, 62468, 24210, 62469, 38044, 24495, 21690, 29145, 40016,\n",
       "       40842, 37318, 27261, 29414, 37154, 27312, 26735, 24547, 31878,\n",
       "       60128, 37359, 29782, 40219, 62569, 30008, 29679, 24546, 27421,\n",
       "       40691, 30009, 24439, 32361, 32266, 37478, 40017, 24545, 37647,\n",
       "       37946, 27367, 29331, 43191, 43238, 37193, 39932, 32309, 24496,\n",
       "       37233, 34543, 60176, 29330, 62518, 29731, 37600, 37360, 37695,\n",
       "       34500, 62619, 39975, 60280, 34584, 29783, 37556, 34985, 34986,\n",
       "       34501])"
      ]
     },
     "execution_count": 65,
     "metadata": {},
     "output_type": "execute_result"
    }
   ],
   "source": [
    "t = bscorrs[:, :, 5:10].mean(2).max(0)\n",
    "np.argsort(t)[-100:]"
   ]
  },
  {
   "cell_type": "code",
   "execution_count": 13,
   "id": "be5926f5-f1fc-4f51-a478-9e127c2d97ee",
   "metadata": {
    "execution": {
     "shell.execute_reply.end": "2024-01-05T17:12:56.080832Z",
     "shell.execute_reply.started": "2024-01-05T17:12:55.524754Z",
     "to_execute": "2024-01-05T17:12:55.436Z"
    },
    "libroFormatter": "formatter-string"
   },
   "outputs": [],
   "source": [
    "def get_voxel(corrs):\n",
    "    t = corrs.mean(2).max(0)\n",
    "    return np.argsort(t)[-10000:].tolist()"
   ]
  },
  {
   "cell_type": "code",
   "execution_count": 16,
   "id": "89e1ff4b-50a6-4725-ae64-73c3946e42f4",
   "metadata": {
    "execution": {
     "shell.execute_reply.end": "2024-01-05T17:17:47.986771Z",
     "shell.execute_reply.started": "2024-01-05T17:14:41.384856Z",
     "to_execute": "2024-01-05T17:14:41.337Z"
    },
    "libroFormatter": "formatter-string"
   },
   "outputs": [],
   "source": [
    "def get_stim(stories, tr_stats = None):\n",
    "    word_seqs = get_story_wordseqs(stories)\n",
    "    word_vecs = {}\n",
    "    for story in stories:\n",
    "        words = word_seqs[story].data\n",
    "        layer = 20\n",
    "        act_name = 'ffn_gate'\n",
    "        embs = llama.get_llm_act(story, words, config.GPT_WORDS, act_name, layer)\n",
    "        word_vecs[story] = embs\n",
    "    \n",
    "    word_mat = np.vstack([word_vecs[story] for story in stories])\n",
    "    word_mean, word_std = word_mat.mean(0), word_mat.std(0)\n",
    "\n",
    "    ds_vecs = {story : lanczosinterp2D(word_vecs[story], word_seqs[story].data_times, word_seqs[story].tr_times) \n",
    "               for story in stories}\n",
    "    ds_mat = np.vstack([ds_vecs[story][5+config.TRIM:-config.TRIM] for story in stories])\n",
    "\n",
    "    if tr_stats is None: \n",
    "        r_mean, r_std = ds_mat.mean(0), ds_mat.std(0)\n",
    "        r_std[r_std == 0] = 1\n",
    "    else: \n",
    "        r_mean, r_std = tr_stats\n",
    "    ds_mat = np.nan_to_num(np.dot((ds_mat - r_mean), np.linalg.inv(np.diag(r_std))))\n",
    "    del_mat = make_delayed(ds_mat, config.STIM_DELAYS)\n",
    "    if tr_stats is None: return del_mat, (r_mean, r_std), (word_mean, word_std)\n",
    "    else: return del_mat\n",
    "\n",
    "stim_dict = {story : get_stim([story], tr_stats = tr_stats) for story in stories}"
   ]
  },
  {
   "cell_type": "code",
   "execution_count": 15,
   "id": "df2a0751-fafc-49e9-a32d-c7bbf57179c2",
   "metadata": {
    "execution": {
     "shell.execute_reply.end": "2024-01-05T17:14:41.315832Z",
     "shell.execute_reply.started": "2024-01-05T17:13:02.088579Z",
     "to_execute": "2024-01-05T17:13:02.003Z"
    },
    "libroFormatter": "formatter-string"
   },
   "outputs": [],
   "source": [
    "resp_dict = get_resp(args.subject, stories, stack = False, vox = vox)"
   ]
  },
  {
   "cell_type": "code",
   "execution_count": 17,
   "id": "08bbffba-4593-4d9f-9b29-d5230cc21f0c",
   "metadata": {
    "execution": {
     "shell.execute_reply.end": "2024-01-05T17:19:11.804207Z",
     "shell.execute_reply.started": "2024-01-05T17:18:09.149112Z",
     "to_execute": "2024-01-05T17:18:09.382Z"
    },
    "libroFormatter": "formatter-string"
   },
   "outputs": [
    {
     "name": "stdout",
     "output_type": "stream",
     "text": [
      "PearsonRResult(statistic=0.1343166077704546, pvalue=0.0)\n",
      "PearsonRResult(statistic=0.18005104517542656, pvalue=0.0)\n",
      "PearsonRResult(statistic=0.13352700556254338, pvalue=0.0)\n",
      "PearsonRResult(statistic=0.14024638964978753, pvalue=0.0)\n",
      "PearsonRResult(statistic=0.11630805275207659, pvalue=0.0)\n",
      "PearsonRResult(statistic=0.14408247753978906, pvalue=0.0)\n",
      "PearsonRResult(statistic=0.1883748198242552, pvalue=0.0)\n",
      "PearsonRResult(statistic=0.06479054619918578, pvalue=0.0)\n",
      "PearsonRResult(statistic=0.16666112501921226, pvalue=0.0)\n",
      "PearsonRResult(statistic=0.1544978554628468, pvalue=0.0)\n"
     ]
    }
   ],
   "source": [
    "noise_model = torch.zeros([len(vox), len(vox)]).cuda()\n",
    "for hstory in stories:\n",
    "    tstim, hstim = np.vstack([stim_dict[tstory] for tstory in stories if tstory != hstory]), stim_dict[hstory]\n",
    "    tresp, hresp = np.vstack([resp_dict[tstory] for tstory in stories if tstory != hstory]), resp_dict[hstory]\n",
    "    tstim, hstim = torch.tensor(tstim).cuda(), torch.tensor(hstim).cuda()\n",
    "    tresp, hresp = torch.tensor(tresp).cuda(), torch.tensor(hresp).cuda()\n",
    "    bs_weights = ridge_torch(tstim, tresp, alphas[vox])\n",
    "    bs_weights = bs_weights.to(hstim.device).to(hstim.dtype)\n",
    "    pred = hstim.matmul(bs_weights)\n",
    "    resids = hresp - pred\n",
    "    bs_noise_model = resids.T.matmul(resids)\n",
    "    noise_model += bs_noise_model / torch.diag(bs_noise_model).mean() / len(stories)\n",
    "\n",
    "    pred = pred.cpu().numpy() \n",
    "    hresp = hresp.cpu().numpy()\n",
    "    print(scipy.stats.pearsonr(pred.flatten(), hresp.flatten()))\n"
   ]
  },
  {
   "cell_type": "code",
   "execution_count": 33,
   "id": "41ca1252-c82a-4102-b913-12aaeff927ca",
   "metadata": {
    "execution": {
     "shell.execute_reply.end": "2024-01-05T17:25:45.370893Z",
     "shell.execute_reply.started": "2024-01-05T17:25:45.146781Z",
     "to_execute": "2024-01-05T17:25:44.984Z"
    },
    "libroFormatter": "formatter-string"
   },
   "outputs": [
    {
     "name": "stdout",
     "output_type": "stream",
     "text": [
      "PearsonRResult(statistic=0.0314835300969397, pvalue=0.0)\n"
     ]
    }
   ],
   "source": [
    "# random_weights = torch.randn(bs_weights.shape).cuda().double()\n",
    "# random_input = torch.randn(hstim.shape).cuda().double()\n",
    "ids = list(range(hstim.shape[1]))\n",
    "random.shuffle(ids)\n",
    "pred = hstim[:,ids].matmul(bs_weights)\n",
    "pred = pred.cpu().numpy() \n",
    "# hresp = hresp.cpu().numpy()\n",
    "print(scipy.stats.pearsonr(pred.flatten(), hresp.flatten()))\n",
    "\n"
   ]
  },
  {
   "cell_type": "code",
   "execution_count": 35,
   "id": "6f192caa-ea19-44cb-9fca-70bf7cf4a02e",
   "metadata": {
    "execution": {
     "shell.execute_reply.end": "2024-01-05T18:11:24.016287Z",
     "shell.execute_reply.started": "2024-01-05T18:11:23.856027Z",
     "to_execute": "2024-01-05T18:11:23.760Z"
    },
    "libroFormatter": "formatter-string"
   },
   "outputs": [
    {
     "data": {
      "text/plain": [
       "'PearsonRResult(statistic=0.0314835300969397, pvalue=0.0)'"
      ]
     },
     "execution_count": 35,
     "metadata": {},
     "output_type": "execute_result"
    }
   ],
   "source": [
    "str(scipy.stats.pearsonr(pred.flatten(), hresp.flatten()))"
   ]
  },
  {
   "cell_type": "code",
   "execution_count": 29,
   "id": "dc490455-dfac-43e4-944e-6ed9cf439faa",
   "metadata": {
    "execution": {
     "shell.execute_reply.end": "2024-01-05T17:24:57.682508Z",
     "shell.execute_reply.started": "2024-01-05T17:24:57.658687Z",
     "to_execute": "2024-01-05T17:24:57.500Z"
    },
    "libroFormatter": "formatter-string"
   },
   "outputs": [],
   "source": [
    "ids = list(range(hstim.shape[0]))\n",
    "random.shuffle(ids)"
   ]
  },
  {
   "cell_type": "code",
   "execution_count": 31,
   "id": "9fb8244c-a71f-427c-95aa-8ac3119ada1f",
   "metadata": {
    "execution": {
     "shell.execute_reply.end": "2024-01-05T17:25:10.987181Z",
     "shell.execute_reply.started": "2024-01-05T17:25:10.960458Z",
     "to_execute": "2024-01-05T17:25:10.948Z"
    },
    "libroFormatter": "formatter-string"
   },
   "outputs": [
    {
     "data": {
      "text/plain": [
       "tensor([[ 2.8632,  0.0108, -0.7713,  ..., -0.2018, -0.6897, -1.0225],\n",
       "        [ 0.0309, -0.0534, -0.2413,  ...,  0.0564,  1.1742, -1.2079],\n",
       "        [ 1.5587,  0.7781,  0.0997,  ..., -1.0315, -0.2295, -0.4057],\n",
       "        ...,\n",
       "        [-0.2464, -0.7736,  0.3435,  ..., -1.1315,  0.4548,  1.1343],\n",
       "        [-0.7421, -0.9829,  1.7259,  ..., -0.5219, -0.3622,  0.3405],\n",
       "        [-0.1142,  0.6807, -0.5739,  ..., -0.1105,  0.6583,  0.6890]],\n",
       "       device='cuda:0', dtype=torch.float64)"
      ]
     },
     "execution_count": 31,
     "metadata": {},
     "output_type": "execute_result"
    }
   ],
   "source": [
    "hstim[ids]"
   ]
  },
  {
   "cell_type": "code",
   "execution_count": null,
   "id": "fee18749-8da4-4b64-9f19-1f94daaa17a7",
   "metadata": {
    "libroFormatter": "formatter-string"
   },
   "outputs": [],
   "source": []
  }
 ],
 "metadata": {
  "kernelspec": {
   "display_name": "python3.8",
   "name": "python3"
  }
 },
 "nbformat": 4,
 "nbformat_minor": 5
}
