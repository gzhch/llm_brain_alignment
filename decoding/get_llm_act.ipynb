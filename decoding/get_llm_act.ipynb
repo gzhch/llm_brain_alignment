{
 "cells": [
  {
   "cell_type": "code",
   "execution_count": 51,
   "id": "aebb3b39-8554-4554-b30b-ea5db688c6ed",
   "metadata": {
    "execution": {
     "shell.execute_reply.end": "2024-01-04T10:02:56.766097Z",
     "shell.execute_reply.started": "2024-01-04T10:02:56.300393Z",
     "to_execute": "2024-01-04T10:02:56.147Z"
    },
    "libroFormatter": "formatter-string"
   },
   "outputs": [
    {
     "name": "stdout",
     "output_type": "stream",
     "text": [
      "The autoreload extension is already loaded. To reload it, use:\n",
      "  %reload_ext autoreload\n"
     ]
    }
   ],
   "source": [
    "%load_ext autoreload\n",
    "%autoreload 2\n",
    "import os\n",
    "import numpy as np\n",
    "import json\n",
    "import argparse\n",
    "\n",
    "import config\n",
    "from GPT import GPT\n",
    "from LLAMA import LLAMA\n",
    "from StimulusModel import LMFeatures\n",
    "from utils_stim import get_stim, get_story_wordseqs\n",
    "from utils_resp import get_resp\n",
    "from utils_ridge.ridge import ridge, bootstrap_ridge\n",
    "from utils_ridge.stimulus_utils import TRFile, load_textgrids, load_simulated_trfiles\n",
    "from utils_ridge.dsutils import make_word_ds\n",
    "from utils_ridge.interpdata import lanczosinterp2D\n",
    "from utils_ridge.util import make_delayed\n",
    "import torch\n",
    "from transformers import AutoModelForCausalLM, AutoTokenizer, AutoConfig\n",
    "import utils_llama.activation as ana"
   ]
  },
  {
   "cell_type": "code",
   "execution_count": 3,
   "id": "0415bccd-aaca-4e37-bca1-6e3733e07aa3",
   "metadata": {
    "execution": {
     "shell.execute_reply.end": "2024-01-04T08:11:58.804621Z",
     "shell.execute_reply.started": "2024-01-04T08:03:13.474299Z",
     "to_execute": "2024-01-04T08:03:12.945Z"
    },
    "libroFormatter": "formatter-string"
   },
   "outputs": [
    {
     "name": "stderr",
     "output_type": "stream",
     "text": [
      "2024-01-04 16:03:32,727 - accelerate.utils.modeling - INFO - We will use 90% of the memory on device 0 for storing the model, and 10% for the buffer to avoid OOM. You can set `max_memory` in to a higher value to use more memory (at your own risk).\n",
      "Loading checkpoint shards: 100%|██████████| 2/2 [08:24<00:00, 252.42s/it]\n"
     ]
    }
   ],
   "source": [
    "model_dir = '/ossfs/workspace/nas/gzhch/data/models/Llama-2-7b-hf'\n",
    "model = AutoModelForCausalLM.from_pretrained(\n",
    "    model_dir, \n",
    "    device_map='auto',\n",
    "    torch_dtype=torch.float16,\n",
    ").eval()\n",
    "tokenizer = AutoTokenizer.from_pretrained(model_dir)"
   ]
  },
  {
   "cell_type": "code",
   "execution_count": 4,
   "id": "135d60dc-aec9-48d4-bcf9-e55b52559f0f",
   "metadata": {
    "execution": {
     "shell.execute_reply.end": "2024-01-04T08:12:13.408843Z",
     "shell.execute_reply.started": "2024-01-04T08:12:12.913858Z",
     "to_execute": "2024-01-04T08:12:12.386Z"
    },
    "libroFormatter": "formatter-string"
   },
   "outputs": [],
   "source": [
    "class ARGS:\n",
    "    def __init__(self):\n",
    "        self.subject = 'S1'\n",
    "        self.gpt = 'perceived'\n",
    "        self.sessions = [2, 3, 4, 5, 6, 7, 8, 9, 10, 11, 12, 14, 15, 18, 20]\n",
    "\n",
    "args = ARGS()"
   ]
  },
  {
   "cell_type": "code",
   "execution_count": 5,
   "id": "f3484396-e613-4d26-9adf-94e36153e685",
   "metadata": {
    "execution": {
     "shell.execute_reply.end": "2024-01-04T08:12:14.865951Z",
     "shell.execute_reply.started": "2024-01-04T08:12:14.692907Z",
     "to_execute": "2024-01-04T08:12:14.139Z"
    },
    "libroFormatter": "formatter-string"
   },
   "outputs": [],
   "source": [
    "# training stories\n",
    "stories = []\n",
    "with open(os.path.join(config.DATA_TRAIN_DIR, \"sess_to_story.json\"), \"r\") as f:\n",
    "    sess_to_story = json.load(f) \n",
    "for sess in args.sessions:\n",
    "    stories.extend(sess_to_story[str(sess)])"
   ]
  },
  {
   "cell_type": "code",
   "execution_count": 52,
   "id": "0ecd5089-0b76-4385-a117-3fa0b046dcc8",
   "metadata": {
    "execution": {
     "shell.execute_reply.end": "2024-01-04T10:04:11.302801Z",
     "shell.execute_reply.started": "2024-01-04T10:04:10.840191Z",
     "to_execute": "2024-01-04T10:04:10.749Z"
    },
    "libroFormatter": "formatter-string"
   },
   "outputs": [],
   "source": []
  },
  {
   "cell_type": "code",
   "execution_count": null,
   "id": "ae03d5af-d7c6-4587-a183-3b3d873a03d5",
   "metadata": {
    "libroFormatter": "formatter-string"
   },
   "outputs": [],
   "source": [
    "word_seqs = get_story_wordseqs(stories)"
   ]
  },
  {
   "cell_type": "code",
   "execution_count": 54,
   "id": "8f2ddef8-0d8a-41e1-ad8a-1ff59a4c9a4e",
   "metadata": {
    "execution": {
     "shell.execute_reply.end": "",
     "shell.execute_reply.started": "2024-01-04T10:04:53.544729Z",
     "to_execute": "2024-01-04T10:04:53.406Z"
    },
    "libroFormatter": "formatter-string"
   },
   "outputs": [
    {
     "name": "stdout",
     "output_type": "stream",
     "text": [
      "alternateithicatom 2174\n",
      "souls 1868\n",
      "avatar 1469\n",
      "legacy 1893\n",
      "odetostepfather 2675\n",
      "undertheinfluence 1641\n",
      "howtodraw 1964\n",
      "myfirstdaywiththeyankees 2786\n",
      "naked 3218\n",
      "life 2209\n",
      "stagefright 2067\n",
      "tildeath 2297\n",
      "sloth 2403\n",
      "exorcism 2949\n",
      "onlyonewaytofindout 1889\n",
      "penpal 1592\n",
      "goingthelibertyway 2471\n",
      "kiksuya 1699\n",
      "thepostmanalwayscalls 2220\n",
      "backsideofthestorm 1964\n",
      "sweetaspie 697\n",
      "thetiniestbouquet 964\n",
      "lifeanddeathontheoregontrail 2389\n",
      "thefreedomridersandme 1606\n",
      "thumbsup 3083\n",
      "becomingindian 2619\n",
      "waitingtogo 1587\n",
      "singlewomanseekingmanwich 1486\n",
      "whenmothersbullyback 1488\n",
      "superheroesjustforeachother 1440\n",
      "gpsformylostidentity 1650\n",
      "catfishingstrangerstofindmyself 1522\n",
      "christmas1940 1261\n",
      "stumblinginthedark 2681\n",
      "forgettingfear 1240\n",
      "bluehope 1941\n",
      "lifereimagined 1800\n",
      "ifthishaircouldtalk 1854\n",
      "againstthewind 838\n",
      "goldiethegoldfish 1680\n",
      "quietfire 1905\n",
      "cocoonoflove 1984\n",
      "comingofageondeathrow 2212\n",
      "leavingbaghdad 1976\n",
      "mybackseatviewofagreatromance 1794\n",
      "reachingoutbetweenthebars 1490\n",
      "afatherscover 1182\n",
      "wildwomenanddancingqueens 1218\n",
      "notontheusualtour 1431\n",
      "food 2064\n",
      "vixenandtheussr 2074\n",
      "golfclubbing 1211\n",
      "beneaththemushroomcloud 1916\n",
      "threemonths 2062\n",
      "gangstersandcookies 1547\n",
      "metsmagic 1477\n",
      "myfathershands 942\n",
      "theadvancedbeginner 1624\n"
     ]
    }
   ],
   "source": [
    "llama = LLAMA(model, tokenizer, '/ossfs/workspace/act_cache_ffn_gate')\n",
    "\n",
    "word_vecs = {}\n",
    "for story in stories:\n",
    "    words = word_seqs[story].data\n",
    "    print(story, len(word_seqs[story].data))\n",
    "    layer = 20\n",
    "    act_name = 'ffn_gate'\n",
    "    embs = llama.get_llm_act(story, words, config.GPT_WORDS, act_name, layer)\n",
    "    word_vecs[story] = embs"
   ]
  },
  {
   "cell_type": "code",
   "execution_count": 37,
   "id": "e0536ec2-3da7-420d-8d55-2449a7a70e9a",
   "metadata": {
    "execution": {
     "shell.execute_reply.end": "2024-01-04T08:41:39.515808Z",
     "shell.execute_reply.started": "2024-01-04T08:41:10.082819Z",
     "to_execute": "2024-01-04T08:41:09.602Z"
    },
    "libroFormatter": "formatter-string"
   },
   "outputs": [
    {
     "name": "stderr",
     "output_type": "stream",
     "text": [
      "/opt/conda/lib/python3.8/site-packages/numpy/core/_methods.py:236: RuntimeWarning: overflow encountered in multiply\n",
      "  x = um.multiply(x, x, out=x)\n",
      "/opt/conda/lib/python3.8/site-packages/numpy/core/_methods.py:247: RuntimeWarning: overflow encountered in reduce\n",
      "  ret = umr_sum(x, axis, dtype, out, keepdims=keepdims, where=where)\n"
     ]
    }
   ],
   "source": [
    "word_mat = np.vstack([word_vecs[story] for story in stories])\n",
    "word_mean, word_std = word_mat.mean(0), word_mat.std(0)"
   ]
  },
  {
   "cell_type": "code",
   "execution_count": 42,
   "id": "2a60227b-b0ae-4420-80a1-4ef88c61206d",
   "metadata": {
    "execution": {
     "shell.execute_reply.end": "2024-01-04T08:43:18.081856Z",
     "shell.execute_reply.started": "2024-01-04T08:43:02.823266Z",
     "to_execute": "2024-01-04T08:43:02.314Z"
    },
    "libroFormatter": "formatter-string"
   },
   "outputs": [],
   "source": [
    "ds_vecs = {story : lanczosinterp2D(word_vecs[story], word_seqs[story].data_times, word_seqs[story].tr_times) \n",
    "           for story in stories}"
   ]
  },
  {
   "cell_type": "code",
   "execution_count": 46,
   "id": "40171e9e-1e52-4edb-bb60-1476b056ec04",
   "metadata": {
    "execution": {
     "shell.execute_reply.end": "2024-01-04T08:51:49.213318Z",
     "shell.execute_reply.started": "2024-01-04T08:51:33.979757Z",
     "to_execute": "2024-01-04T08:51:33.523Z"
    },
    "libroFormatter": "formatter-string"
   },
   "outputs": [],
   "source": [
    "ds_mat = np.vstack([ds_vecs[story][5+config.TRIM:-config.TRIM] for story in stories])\n",
    "r_mean, r_std = ds_mat.mean(0), ds_mat.std(0)\n",
    "r_std[r_std == 0] = 1\n",
    "ds_mat = np.nan_to_num(np.dot((ds_mat - r_mean), np.linalg.inv(np.diag(r_std))))\n",
    "del_mat = make_delayed(ds_mat, config.STIM_DELAYS)"
   ]
  },
  {
   "cell_type": "code",
   "execution_count": 55,
   "id": "b48b11d7-13ce-4561-9bbc-adda7f6c52dc",
   "metadata": {
    "execution": {
     "shell.execute_reply.end": "2024-01-05T08:07:43.517678Z",
     "shell.execute_reply.started": "2024-01-05T08:07:43.048725Z",
     "to_execute": "2024-01-05T08:07:42.878Z"
    },
    "libroFormatter": "formatter-string"
   },
   "outputs": [
    {
     "data": {
      "text/plain": [
       "(27449, 4096)"
      ]
     },
     "execution_count": 55,
     "metadata": {},
     "output_type": "execute_result"
    }
   ],
   "source": [
    "ds_mat.shape"
   ]
  },
  {
   "cell_type": "code",
   "execution_count": 50,
   "id": "c476c713-222c-4ca9-8674-f48e13479821",
   "metadata": {
    "execution": {
     "shell.execute_reply.end": "2024-01-04T08:52:21.215873Z",
     "shell.execute_reply.started": "2024-01-04T08:52:21.193194Z",
     "to_execute": "2024-01-04T08:52:20.709Z"
    },
    "libroFormatter": "formatter-string"
   },
   "outputs": [
    {
     "data": {
      "text/plain": [
       "(27449, 16384)"
      ]
     },
     "execution_count": 50,
     "metadata": {},
     "output_type": "execute_result"
    }
   ],
   "source": [
    "del_mat.shape"
   ]
  },
  {
   "cell_type": "code",
   "execution_count": null,
   "id": "bb52b63d-6e56-4894-b2a6-9c9312f45eb0",
   "metadata": {
    "libroFormatter": "formatter-string"
   },
   "outputs": [],
   "source": []
  }
 ],
 "metadata": {},
 "nbformat": 4,
 "nbformat_minor": 5
}
